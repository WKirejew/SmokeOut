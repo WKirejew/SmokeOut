{
 "cells": [
  {
   "cell_type": "code",
   "execution_count": null,
   "metadata": {},
   "outputs": [],
   "source": [
    "# Setup:\n",
    "import os\n",
    "from azure.storage.blob import BlobServiceClient, BlobClient, ContainerClient"
   ]
  },
  {
   "cell_type": "markdown",
   "metadata": {},
   "source": [
    "# Function for uploading json files into AFS Blob"
   ]
  },
  {
   "cell_type": "code",
   "execution_count": null,
   "metadata": {},
   "outputs": [],
   "source": [
    "def json_upload(json):\n",
    "     \"\"\"\n",
    "        Uploads the file into the server, checking beforehand for existence of other files related \n",
    "        by username, found in the file and giving ID number based on the historic-json container\n",
    "\n",
    "        Parameters\n",
    "        ----------\n",
    "        json : string to json file\n",
    "            An object created from opening of a .json file beeing up for upload\n",
    "    \"\"\"\n",
    "    # Retrieve the connection string for use with the application. The storage\n",
    "    # connection string is stored in an environment variable on the machine\n",
    "    # running the application called AZURE_STORAGE_CONNECTION_STRING. If the environment variable is\n",
    "    # created after the application is launched in a console or with Visual Studio,\n",
    "    # the shell or application needs to be closed and reloaded to take the\n",
    "    # environment variable into account.\n",
    "     connect_str = os.getenv('AZURE_STORAGE_CONNECTION_STRING')\n",
    "    # Create the BlobServiceClient object\n",
    "     blob_service_client = BlobServiceClient.from_connection_string(connect_str)\n",
    "    # Retriving username\n",
    "     blob_client = blob_service_client.get_blob_client(container='jsons', blob=json)\n",
    "     blob_client.upload_blob(json, blob_type=\"BlockBlob\")"
   ]
  },
  {
   "cell_type": "markdown",
   "metadata": {},
   "source": []
  }
 ],
 "metadata": {
  "language_info": {
   "name": "python"
  }
 },
 "nbformat": 4,
 "nbformat_minor": 2
}
