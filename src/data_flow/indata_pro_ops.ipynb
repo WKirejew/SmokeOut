{
 "cells": [
  {
   "cell_type": "code",
   "execution_count": null,
   "metadata": {},
   "outputs": [],
   "source": [
    "class InData:\n",
    "    \"\"\"Class for input data, that allows for conversion into input to tables of DataBase, define the datastructure and operations over those tables\"\"\"\n",
    "    def __init__(self, JSON):\n",
    "        self.data = []"
   ]
  }
 ],
 "metadata": {
  "language_info": {
   "name": "python"
  }
 },
 "nbformat": 4,
 "nbformat_minor": 2
}
