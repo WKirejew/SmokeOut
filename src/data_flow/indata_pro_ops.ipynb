{
 "cells": [
  {
   "cell_type": "code",
   "execution_count": null,
   "metadata": {},
   "outputs": [],
   "source": [
    "import json"
   ]
  },
  {
   "cell_type": "markdown",
   "metadata": {},
   "source": [
    "# Declaration of class with it's methods"
   ]
  },
  {
   "cell_type": "code",
   "execution_count": null,
   "metadata": {},
   "outputs": [],
   "source": [
    "class InData:\n",
    "    \"\"\"\n",
    "    Class for input data, that allows for conversion into input to tables of DataBase, define the datastructure and operations over those tables\n",
    "    \n",
    "    Attributes\n",
    "    ----------\n",
    "    json : json.object\n",
    "        loaded json file with user's inpiut data\n",
    "    username : str\n",
    "        name of user to whom the data belongs\n",
    "    open : list of str\n",
    "        list of strings, containing [SQL - DateTime2(0)] formatted date of device's openings\n",
    "    switch : list of str\n",
    "        list of strings, containing [SQL - DateTime2(0)] formatted date of cigarettes' package switching\n",
    "\n",
    "    Methods\n",
    "    -------\n",
    "    extract()\n",
    "    \"\"\"\n",
    "    def __init__(self, JSON):\n",
    "         \"\"\"\n",
    "        Parameters\n",
    "        ----------\n",
    "        JSON : str to JSON file\n",
    "            Allow of opening and reading from the JSON file containing user input data\n",
    "        \"\"\"\n",
    "         f = open(JSON)\n",
    "         self.json = json.load(f)\n",
    "         self.username = \"\"\n",
    "         self.open = []\n",
    "         self.switch = []\n",
    "\n",
    "         for i in self.json['operations']:\n",
    "            f\n",
    "\n",
    "    #def extract(self):\n",
    "          \"\"\"\n",
    "          Extract information from JSON: username, dates of device opening and package switching from json into self.open and self.switch.\n",
    "          Decodes the datetime format of input into datetime format of Data\n",
    "        \"\"\"\n",
    "        "
   ]
  }
 ],
 "metadata": {
  "language_info": {
   "name": "python"
  }
 },
 "nbformat": 4,
 "nbformat_minor": 2
}
