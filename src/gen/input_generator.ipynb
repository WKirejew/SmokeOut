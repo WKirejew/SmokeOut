{
 "cells": [
  {
   "cell_type": "code",
   "execution_count": null,
   "metadata": {},
   "outputs": [],
   "source": [
    "import string\n",
    "\n"
   ]
  },
  {
   "cell_type": "code",
   "execution_count": null,
   "metadata": {},
   "outputs": [],
   "source": [
    "def new_user(username):\n",
    "    "
   ]
  },
  {
   "cell_type": "code",
   "execution_count": null,
   "metadata": {},
   "outputs": [],
   "source": [
    "def get_single_indata(username, lenght, errors, type):\n",
    "    # choose to generate single instance of input data string of \"lenght\" number of instances for \"username\"\n",
    "    new_user(username)\n",
    "    string single_indata\n",
    "    return single_indata\n"
   ]
  },
  {
   "cell_type": "code",
   "execution_count": null,
   "metadata": {},
   "outputs": [],
   "source": [
    "def get_multi_indata(users, lenght, errors, type):\n",
    "    # choose to generate multiple instances of input data strings of \"lenght\" number of instances for \"username\" in list of users\n"
   ]
  }
 ],
 "metadata": {
  "language_info": {
   "name": "python"
  },
  "orig_nbformat": 4
 },
 "nbformat": 4,
 "nbformat_minor": 2
}
