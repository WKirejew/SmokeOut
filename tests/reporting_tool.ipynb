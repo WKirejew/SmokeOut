{
 "cells": [
  {
   "cell_type": "code",
   "execution_count": 2,
   "metadata": {},
   "outputs": [],
   "source": [
    "import pyodbc\n",
    "import pandas as pd"
   ]
  },
  {
   "cell_type": "markdown",
   "metadata": {},
   "source": [
    "Establishing connection with Azure Database, script asks for ODBC connection string (more in readme.md)"
   ]
  },
  {
   "cell_type": "code",
   "execution_count": 8,
   "metadata": {},
   "outputs": [],
   "source": [
    "user = \"UiD=\" + input(\"Write your username:\") + \";\"\n",
    "password = \"Pwd={\" +input(\"Password:\") +\"};\"\n",
    "con_str = \"Driver={ODBC Driver 18 for SQL Server};Server=tcp:smokeout.database.windows.net,1433;Database=SmokeOut_users;\" + user + password + \"Encrypt=yes;TrustServerCertificate=no;Connection Timeout=30;\"\n",
    "connection = pyodbc.connect(con_str)\n",
    "password = \"\"\n",
    "## Test completed, functionality works and password is deleted"
   ]
  },
  {
   "cell_type": "code",
   "execution_count": null,
   "metadata": {},
   "outputs": [],
   "source": []
  },
  {
   "cell_type": "code",
   "execution_count": null,
   "metadata": {},
   "outputs": [],
   "source": [
    "class Report:\n",
    "    \"\"\"Class for input data, that allows for conversion into reports, define the datastructure and operations over reports\"\"\"\n",
    "    def __init__(self, username):\n",
    "        self.data = []"
   ]
  }
 ],
 "metadata": {
  "kernelspec": {
   "display_name": "Python 3",
   "language": "python",
   "name": "python3"
  },
  "language_info": {
   "codemirror_mode": {
    "name": "ipython",
    "version": 3
   },
   "file_extension": ".py",
   "mimetype": "text/x-python",
   "name": "python",
   "nbconvert_exporter": "python",
   "pygments_lexer": "ipython3",
   "version": "3.9.5"
  },
  "orig_nbformat": 4
 },
 "nbformat": 4,
 "nbformat_minor": 2
}
