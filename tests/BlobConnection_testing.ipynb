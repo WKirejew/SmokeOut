{
 "cells": [
  {
   "cell_type": "code",
   "execution_count": 7,
   "metadata": {},
   "outputs": [],
   "source": [
    "import os, uuid\n",
    "import pandas as pd\n",
    "from azure.identity import DefaultAzureCredential\n",
    "from azure.storage.blob import BlobServiceClient, BlobClient, ContainerClient"
   ]
  },
  {
   "cell_type": "markdown",
   "metadata": {},
   "source": [
    "### Establishing connection with Azure"
   ]
  },
  {
   "cell_type": "code",
   "execution_count": 11,
   "metadata": {},
   "outputs": [],
   "source": [
    "# Retrieve the connection string for use with the application. The storage\n",
    "# connection string is stored in an environment variable on the machine\n",
    "# running the application called AZURE_STORAGE_CONNECTION_STRING. If the environment variable is\n",
    "# created after the application is launched in a console or with Visual Studio,\n",
    "# the shell or application needs to be closed and reloaded to take the\n",
    "# environment variable into account.\n",
    "connect_str = os.getenv('AZURE_STORAGE_CONNECTION_STRING')\n",
    "# Create the BlobServiceClient object\n",
    "blob_service_client = BlobServiceClient.from_connection_string(connect_str)"
   ]
  },
  {
   "cell_type": "markdown",
   "metadata": {},
   "source": [
    "### Utilizing DefaultAzureCredential"
   ]
  },
  {
   "cell_type": "code",
   "execution_count": 3,
   "metadata": {},
   "outputs": [],
   "source": [
    "account_url = \"https://inappjson.blob.core.windows.net\"\n",
    "default_credential = DefaultAzureCredential()\n",
    "\n",
    "# Create the BlobServiceClient object\n",
    "blob_service_client = BlobServiceClient(account_url, credential=default_credential)"
   ]
  },
  {
   "cell_type": "markdown",
   "metadata": {},
   "source": [
    "Sample blob download - one file into one location"
   ]
  },
  {
   "cell_type": "code",
   "execution_count": 12,
   "metadata": {},
   "outputs": [
    {
     "name": "stdout",
     "output_type": "stream",
     "text": [
      "\n",
      "Downloading blob to \n",
      "\tassets/jsons/err_indataAFS.json\n"
     ]
    }
   ],
   "source": [
    "# Download the blob to a local file\n",
    "local_path = \"assets/jsons/\"\n",
    "# Add 'AFS' before the .json extension to see both files in the data directory\n",
    "download_file_path = os.path.join(local_path, str.replace('err_indata.json','.json','AFS.json')) \n",
    "container_client = blob_service_client.get_container_client(container='jsons') \n",
    "print(\"\\nDownloading blob to \\n\\t\" + download_file_path)\n",
    "\n",
    "with open(file=download_file_path, mode=\"wb\") as download_file:\n",
    " download_file.write(container_client.download_blob('test1.json').readall())"
   ]
  },
  {
   "cell_type": "markdown",
   "metadata": {},
   "source": [
    "### More advanced download:\n",
    "\n",
    "1. Creating container_client \n",
    "2. Listing blobs inside the container `jsons`\n",
    "3. Iterating over downlading from container into `local_path`"
   ]
  },
  {
   "cell_type": "code",
   "execution_count": 13,
   "metadata": {},
   "outputs": [
    {
     "name": "stdout",
     "output_type": "stream",
     "text": [
      "Folder already exists. Proceeding to downlad\n",
      "\n",
      "Downloading blob to \n",
      "\tassets/jsons/err_indataAFS.json\n",
      "\n",
      "Downloading blob to \n",
      "\tassets/jsons/indataAFS.json\n",
      "\n",
      "Downloading blob to \n",
      "\tassets/jsons/test1AFS.json\n"
     ]
    }
   ],
   "source": [
    "# Download the blob to a local file\n",
    "local_path = \"assets/jsons/\"\n",
    "try:\n",
    "    os.mkdir(local_path)\n",
    "except:\n",
    "    print(\"Folder already exists. Proceeding to downlad\")\n",
    "# Read the container for filenames:\n",
    "container_client = blob_service_client.get_container_client(container='jsons')\n",
    "filenames = container_client.list_blobs()\n",
    "# Add 'AFS' before the .json extension to see both files in the data directory\n",
    "for blob in filenames:\n",
    "    with open('{}{}'.format(local_path, blob.name), 'w') as fp: \n",
    "        pass\n",
    "    download_file_path = os.path.join(local_path, str.replace(blob.name ,'.json', 'AFS.json'))\n",
    "    print(\"\\nDownloading blob to \\n\\t\" + download_file_path)\n",
    "    with open(file=download_file_path, mode=\"wb\") as download_file:\n",
    "        download_file.write(container_client.download_blob(blob.name).readall())"
   ]
  },
  {
   "cell_type": "markdown",
   "metadata": {},
   "source": [
    "### Deleting files in the container"
   ]
  },
  {
   "cell_type": "code",
   "execution_count": 9,
   "metadata": {},
   "outputs": [
    {
     "name": "stdout",
     "output_type": "stream",
     "text": [
      "Deleted blob:err_indata.json\n",
      "Deleted blob:indata.json\n",
      "Deleted blob:test1.json\n"
     ]
    }
   ],
   "source": [
    "filenames = container_client.list_blobs()\n",
    "\n",
    "for blob in filenames:\n",
    "    container_client.delete_blob(blob.name)\n",
    "    print(\"Deleted blob:{}\".format(blob.name))"
   ]
  },
  {
   "cell_type": "markdown",
   "metadata": {},
   "source": [
    "### Uploading files into the container"
   ]
  },
  {
   "cell_type": "code",
   "execution_count": 22,
   "metadata": {},
   "outputs": [
    {
     "name": "stdout",
     "output_type": "stream",
     "text": [
      "['err_indata.json', 'indata.json', 'test1.json']\n",
      "22:10:1_25-10-2023 Test_user\n",
      "{\n",
      "    \"username\": \"Test_user\",\n",
      "    \"operations\": [\n",
      "    {   \"type\": \"switch\",\n",
      "        \"date\": \"22:10:1_25/10/2023\"\n",
      "    },\n",
      "    {   \"type\": \"ope\",\n",
      "        \"date\": \"08:10:12_26/10/2023\"\n",
      "    },\n",
      "    {   \"type\": \"open\",\n",
      "        \"date\": \"12:10:12_26/10/2023\"\n",
      "    },\n",
      "    {   \"type\": \"open\",\n",
      "        \"date\": \"14:10:12_26/10/2023\"\n",
      "    },\n",
      "    {   \"type\": \"open\",\n",
      "        \"date\": \"16:10:12_26/10/2023\"\n",
      "    },\n",
      "    {   \"type\": \"open\",\n",
      "        \"date\": \"18:10:12_26/10/2023\"\n",
      "    },\n",
      "    {   \"type\": \"opn\",\n",
      "        \"date\": \"22:10:12_26/10/2023\"\n",
      "    }\n",
      "    ]\n",
      "}\n",
      "FileTest_user/22:10:1_25-10-2023 already exists\n",
      "22:10:12_25-10-2023 Test_user\n",
      "{\n",
      "    \"username\": \"Test_user\",\n",
      "    \"operations\": [\n",
      "    {   \"type\": \"switch\",\n",
      "        \"date\": \"22:10:12_25/10/2023\"\n",
      "    },\n",
      "    {   \"type\": \"open\",\n",
      "        \"date\": \"08:10:12_26/10/2023\"\n",
      "    },\n",
      "    {   \"type\": \"open\",\n",
      "        \"date\": \"12:10:12_26/10/2023\"\n",
      "    },\n",
      "    {   \"type\": \"open\",\n",
      "        \"date\": \"14:10:12_26/10/2023\"\n",
      "    },\n",
      "    {   \"type\": \"open\",\n",
      "        \"date\": \"16:10:12_26/10/2023\"\n",
      "    },\n",
      "    {   \"type\": \"open\",\n",
      "        \"date\": \"18:10:12_26/10/2023\"\n",
      "    },\n",
      "    {   \"type\": \"open\",\n",
      "        \"date\": \"22:10:12_26/10/2023\"\n",
      "    }\n",
      "    ]\n",
      "}\n",
      "FileTest_user/22:10:12_25-10-2023 already exists\n",
      "22:10:12_25-10-2023 Tester_manual\n",
      "{\n",
      "    \"username\": \"Tester_manual\",\n",
      "    \"operations\": [\n",
      "    {   \"type\": \"switch\",\n",
      "        \"date\": \"22:10:12_25/10/2023\"\n",
      "    },\n",
      "    {   \"type\": \"open\",\n",
      "        \"date\": \"08:09:12_26/10/2023\"\n",
      "    },\n",
      "    {   \"type\": \"open\",\n",
      "        \"date\": \"12:10:13_26/10/2023\"\n",
      "    },\n",
      "    {   \"type\": \"open\",\n",
      "        \"date\": \"14:11:15_26/10/2023\"\n",
      "    },\n",
      "    {   \"type\": \"open\",\n",
      "        \"date\": \"16:10:32_26/10/2023\"\n",
      "    },\n",
      "    {   \"type\": \"open\",\n",
      "        \"date\": \"18:13:52_26/10/2023\"\n",
      "    },\n",
      "    {   \"type\": \"open\",\n",
      "        \"date\": \"22:17:10_26/10/2023\"\n",
      "    }\n",
      "    ]\n",
      "}\n",
      "FileTester_manual/22:10:12_25-10-2023 already exists\n"
     ]
    }
   ],
   "source": [
    "import glob, json\n",
    "uploads = glob.glob('*.json')\n",
    "print(uploads)\n",
    "# Download a list of files in the 'jsons' container\n",
    "container_client = blob_service_client.get_container_client(container='jsons')\n",
    "bl = container_client.list_blobs()\n",
    "filenames = []\n",
    "for b in bl:\n",
    "    filenames.append(b.name)\n",
    "for js in uploads:\n",
    "    with open(js) as jsf:\n",
    "        #blob = jsf.read()\n",
    "        dict = json.load(jsf)\n",
    "        username = dict['username']\n",
    "        date = dict['operations'][0]['date']\n",
    "        date = str.replace(date, \"/\", \"-\")\n",
    "        print(date, username)\n",
    "        name = \"{}/{}\".format(username, date)\n",
    "    with open(js) as file:\n",
    "        data = file.read()\n",
    "        print(data)\n",
    "    if name in filenames:\n",
    "        print(\"File{} already exists\".format(name))\n",
    "    else:\n",
    "        blob_client = blob_service_client.get_blob_client(container='jsons', blob=name)\n",
    "        blob_client.upload_blob(data, blob_type=\"BlockBlob\")"
   ]
  },
  {
   "cell_type": "markdown",
   "metadata": {},
   "source": [
    "Advanced Uploading testing using json_sender function:"
   ]
  },
  {
   "cell_type": "code",
   "execution_count": 5,
   "metadata": {},
   "outputs": [
    {
     "name": "stdout",
     "output_type": "stream",
     "text": [
      "['Tester_manual/22:10:12_25-10-2023.json']\n",
      "Deleted blob:Tester_manual/22:10:12_25-10-2023.json\n",
      "Folder already exists. Proceeding to download\n",
      "\n",
      "Downloading blob to \n",
      "\tassets/test2/Tester_manual/22,10,12_25-10-2023.json\n"
     ]
    }
   ],
   "source": [
    "from azure.storage.blob import BlobServiceClient, BlobClient, ContainerClient\n",
    "import glob, json, os\n",
    "from ipynb.fs.full.json_sender import json_upload\n",
    "\n",
    "connect_str = os.getenv('AZURE_STORAGE_CONNECTION_STRING')\n",
    "# Create the BlobServiceClient object\n",
    "blob_service_client = BlobServiceClient.from_connection_string(connect_str)\n",
    "\n",
    "# Download a list of files in the 'jsons' container\n",
    "container_client = blob_service_client.get_container_client(container='jsons')\n",
    "bl = container_client.list_blobs()\n",
    "filenames = []\n",
    "for b in bl:\n",
    "    filenames.append(b.name)\n",
    "print(filenames)\n",
    "\n",
    "# Delete existing\n",
    "for blob in filenames:\n",
    "    container_client.delete_blob(blob)\n",
    "    print(\"Deleted blob:{}\".format(blob))\n",
    "\n",
    "x = json_upload('test1.json')\n",
    "\n",
    "filenames = container_client.list_blobs()\n",
    "\n",
    "# Download the blob to a local file\n",
    "try:\n",
    "    local_path = \"assets/test2/\"\n",
    "    os.mkdir(local_path)\n",
    "except:\n",
    "    print(\"Folder already exists. Proceeding to download\")\n",
    "# Add 'AFS' before the .json extension to see both files in the data directory\n",
    "for blob in filenames:\n",
    "    with open('{}{}'.format(local_path, str.replace(blob.name ,':', ',')), 'w') as fp: \n",
    "        pass\n",
    "    download_file_path = os.path.join(local_path, str.replace(blob.name ,':', ','))\n",
    "    print(\"\\nDownloading blob to \\n\\t\" + download_file_path)\n",
    "    with open(file=download_file_path, mode=\"wb\") as download_file:\n",
    "        download_file.write(container_client.download_blob(blob.name).readall())\n",
    "\n"
   ]
  }
 ],
 "metadata": {
  "kernelspec": {
   "display_name": "Python 3",
   "language": "python",
   "name": "python3"
  },
  "language_info": {
   "codemirror_mode": {
    "name": "ipython",
    "version": 3
   },
   "file_extension": ".py",
   "mimetype": "text/x-python",
   "name": "python",
   "nbconvert_exporter": "python",
   "pygments_lexer": "ipython3",
   "version": "3.9.5"
  }
 },
 "nbformat": 4,
 "nbformat_minor": 2
}
