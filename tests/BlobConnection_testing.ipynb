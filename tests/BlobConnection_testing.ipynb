{
 "cells": [
  {
   "cell_type": "code",
   "execution_count": 5,
   "metadata": {},
   "outputs": [],
   "source": [
    "import os, uuid\n",
    "import pandas as pd\n",
    "from azure.identity import DefaultAzureCredential\n",
    "from azure.storage.blob import BlobServiceClient, BlobClient, ContainerClient"
   ]
  },
  {
   "cell_type": "markdown",
   "metadata": {},
   "source": [
    "### Establishing connection with Azure"
   ]
  },
  {
   "cell_type": "code",
   "execution_count": 23,
   "metadata": {},
   "outputs": [],
   "source": [
    "# Retrieve the connection string for use with the application. The storage\n",
    "# connection string is stored in an environment variable on the machine\n",
    "# running the application called AZURE_STORAGE_CONNECTION_STRING. If the environment variable is\n",
    "# created after the application is launched in a console or with Visual Studio,\n",
    "# the shell or application needs to be closed and reloaded to take the\n",
    "# environment variable into account.\n",
    "connect_str = os.getenv('AZURE_STORAGE_CONNECTION_STRING')\n",
    "# Create the BlobServiceClient object\n",
    "blob_service_client = BlobServiceClient.from_connection_string(connect_str)"
   ]
  },
  {
   "cell_type": "markdown",
   "metadata": {},
   "source": [
    "### Utilizing DefaultAzureCredential"
   ]
  },
  {
   "cell_type": "code",
   "execution_count": 3,
   "metadata": {},
   "outputs": [],
   "source": [
    "account_url = \"https://inappjson.blob.core.windows.net\"\n",
    "default_credential = DefaultAzureCredential()\n",
    "\n",
    "# Create the BlobServiceClient object\n",
    "blob_service_client = BlobServiceClient(account_url, credential=default_credential)"
   ]
  },
  {
   "cell_type": "markdown",
   "metadata": {},
   "source": [
    "Sample blob download - one file into one location"
   ]
  },
  {
   "cell_type": "code",
   "execution_count": 4,
   "metadata": {},
   "outputs": [
    {
     "name": "stdout",
     "output_type": "stream",
     "text": [
      "\n",
      "Downloading blob to \n",
      "\tassets/jsons/err_indataAFS.json\n"
     ]
    },
    {
     "ename": "HttpResponseError",
     "evalue": "This request is not authorized to perform this operation using this permission.\nRequestId:6ddd4100-c01e-0056-199a-1834ce000000\nTime:2023-11-16T14:36:09.6040874Z\nErrorCode:AuthorizationPermissionMismatch\nContent: <?xml version=\"1.0\" encoding=\"utf-8\"?><Error><Code>AuthorizationPermissionMismatch</Code><Message>This request is not authorized to perform this operation using this permission.\nRequestId:6ddd4100-c01e-0056-199a-1834ce000000\nTime:2023-11-16T14:36:09.6040874Z</Message></Error>",
     "output_type": "error",
     "traceback": [
      "\u001b[1;31m---------------------------------------------------------------------------\u001b[0m",
      "\u001b[1;31mHttpResponseError\u001b[0m                         Traceback (most recent call last)",
      "\u001b[1;32mc:\\Users\\01122464\\SmokeOut\\tests\\BlobConnection_testing.ipynb Cell 7\u001b[0m line \u001b[0;36m9\n\u001b[0;32m      <a href='vscode-notebook-cell:/c%3A/Users/01122464/SmokeOut/tests/BlobConnection_testing.ipynb#W6sZmlsZQ%3D%3D?line=5'>6</a>\u001b[0m \u001b[39mprint\u001b[39m(\u001b[39m\"\u001b[39m\u001b[39m\\n\u001b[39;00m\u001b[39mDownloading blob to \u001b[39m\u001b[39m\\n\u001b[39;00m\u001b[39m\\t\u001b[39;00m\u001b[39m\"\u001b[39m \u001b[39m+\u001b[39m download_file_path)\n\u001b[0;32m      <a href='vscode-notebook-cell:/c%3A/Users/01122464/SmokeOut/tests/BlobConnection_testing.ipynb#W6sZmlsZQ%3D%3D?line=7'>8</a>\u001b[0m \u001b[39mwith\u001b[39;00m \u001b[39mopen\u001b[39m(file\u001b[39m=\u001b[39mdownload_file_path, mode\u001b[39m=\u001b[39m\u001b[39m\"\u001b[39m\u001b[39mwb\u001b[39m\u001b[39m\"\u001b[39m) \u001b[39mas\u001b[39;00m download_file:\n\u001b[1;32m----> <a href='vscode-notebook-cell:/c%3A/Users/01122464/SmokeOut/tests/BlobConnection_testing.ipynb#W6sZmlsZQ%3D%3D?line=8'>9</a>\u001b[0m  download_file\u001b[39m.\u001b[39mwrite(container_client\u001b[39m.\u001b[39;49mdownload_blob(\u001b[39m'\u001b[39;49m\u001b[39mtest1.json\u001b[39;49m\u001b[39m'\u001b[39;49m)\u001b[39m.\u001b[39mreadall())\n",
      "File \u001b[1;32mc:\\Users\\01122464\\AppData\\Local\\Programs\\Python\\Python39\\lib\\site-packages\\azure\\core\\tracing\\decorator.py:78\u001b[0m, in \u001b[0;36mdistributed_trace.<locals>.decorator.<locals>.wrapper_use_tracer\u001b[1;34m(*args, **kwargs)\u001b[0m\n\u001b[0;32m     76\u001b[0m span_impl_type \u001b[39m=\u001b[39m settings\u001b[39m.\u001b[39mtracing_implementation()\n\u001b[0;32m     77\u001b[0m \u001b[39mif\u001b[39;00m span_impl_type \u001b[39mis\u001b[39;00m \u001b[39mNone\u001b[39;00m:\n\u001b[1;32m---> 78\u001b[0m     \u001b[39mreturn\u001b[39;00m func(\u001b[39m*\u001b[39margs, \u001b[39m*\u001b[39m\u001b[39m*\u001b[39mkwargs)\n\u001b[0;32m     80\u001b[0m \u001b[39m# Merge span is parameter is set, but only if no explicit parent are passed\u001b[39;00m\n\u001b[0;32m     81\u001b[0m \u001b[39mif\u001b[39;00m merge_span \u001b[39mand\u001b[39;00m \u001b[39mnot\u001b[39;00m passed_in_parent:\n",
      "File \u001b[1;32mc:\\Users\\01122464\\AppData\\Local\\Programs\\Python\\Python39\\lib\\site-packages\\azure\\storage\\blob\\_container_client.py:1313\u001b[0m, in \u001b[0;36mContainerClient.download_blob\u001b[1;34m(self, blob, offset, length, encoding, **kwargs)\u001b[0m\n\u001b[0;32m   1311\u001b[0m blob_client \u001b[39m=\u001b[39m \u001b[39mself\u001b[39m\u001b[39m.\u001b[39mget_blob_client(blob) \u001b[39m# type: ignore\u001b[39;00m\n\u001b[0;32m   1312\u001b[0m kwargs\u001b[39m.\u001b[39msetdefault(\u001b[39m'\u001b[39m\u001b[39mmerge_span\u001b[39m\u001b[39m'\u001b[39m, \u001b[39mTrue\u001b[39;00m)\n\u001b[1;32m-> 1313\u001b[0m \u001b[39mreturn\u001b[39;00m blob_client\u001b[39m.\u001b[39mdownload_blob(\n\u001b[0;32m   1314\u001b[0m     offset\u001b[39m=\u001b[39moffset,\n\u001b[0;32m   1315\u001b[0m     length\u001b[39m=\u001b[39mlength,\n\u001b[0;32m   1316\u001b[0m     encoding\u001b[39m=\u001b[39mencoding,\n\u001b[0;32m   1317\u001b[0m     \u001b[39m*\u001b[39m\u001b[39m*\u001b[39mkwargs)\n",
      "File \u001b[1;32mc:\\Users\\01122464\\AppData\\Local\\Programs\\Python\\Python39\\lib\\site-packages\\azure\\core\\tracing\\decorator.py:78\u001b[0m, in \u001b[0;36mdistributed_trace.<locals>.decorator.<locals>.wrapper_use_tracer\u001b[1;34m(*args, **kwargs)\u001b[0m\n\u001b[0;32m     76\u001b[0m span_impl_type \u001b[39m=\u001b[39m settings\u001b[39m.\u001b[39mtracing_implementation()\n\u001b[0;32m     77\u001b[0m \u001b[39mif\u001b[39;00m span_impl_type \u001b[39mis\u001b[39;00m \u001b[39mNone\u001b[39;00m:\n\u001b[1;32m---> 78\u001b[0m     \u001b[39mreturn\u001b[39;00m func(\u001b[39m*\u001b[39margs, \u001b[39m*\u001b[39m\u001b[39m*\u001b[39mkwargs)\n\u001b[0;32m     80\u001b[0m \u001b[39m# Merge span is parameter is set, but only if no explicit parent are passed\u001b[39;00m\n\u001b[0;32m     81\u001b[0m \u001b[39mif\u001b[39;00m merge_span \u001b[39mand\u001b[39;00m \u001b[39mnot\u001b[39;00m passed_in_parent:\n",
      "File \u001b[1;32mc:\\Users\\01122464\\AppData\\Local\\Programs\\Python\\Python39\\lib\\site-packages\\azure\\storage\\blob\\_blob_client.py:942\u001b[0m, in \u001b[0;36mBlobClient.download_blob\u001b[1;34m(self, offset, length, encoding, **kwargs)\u001b[0m\n\u001b[0;32m    848\u001b[0m \u001b[39m\u001b[39m\u001b[39m\"\"\"Downloads a blob to the StorageStreamDownloader. The readall() method must\u001b[39;00m\n\u001b[0;32m    849\u001b[0m \u001b[39mbe used to read all the content or readinto() must be used to download the blob into\u001b[39;00m\n\u001b[0;32m    850\u001b[0m \u001b[39ma stream. Using chunks() returns an iterator which allows the user to iterate over the content in chunks.\u001b[39;00m\n\u001b[1;32m   (...)\u001b[0m\n\u001b[0;32m    935\u001b[0m \u001b[39m        :caption: Download a blob.\u001b[39;00m\n\u001b[0;32m    936\u001b[0m \u001b[39m\"\"\"\u001b[39;00m\n\u001b[0;32m    937\u001b[0m options \u001b[39m=\u001b[39m \u001b[39mself\u001b[39m\u001b[39m.\u001b[39m_download_blob_options(\n\u001b[0;32m    938\u001b[0m     offset\u001b[39m=\u001b[39moffset,\n\u001b[0;32m    939\u001b[0m     length\u001b[39m=\u001b[39mlength,\n\u001b[0;32m    940\u001b[0m     encoding\u001b[39m=\u001b[39mencoding,\n\u001b[0;32m    941\u001b[0m     \u001b[39m*\u001b[39m\u001b[39m*\u001b[39mkwargs)\n\u001b[1;32m--> 942\u001b[0m \u001b[39mreturn\u001b[39;00m StorageStreamDownloader(\u001b[39m*\u001b[39m\u001b[39m*\u001b[39moptions)\n",
      "File \u001b[1;32mc:\\Users\\01122464\\AppData\\Local\\Programs\\Python\\Python39\\lib\\site-packages\\azure\\storage\\blob\\_download.py:366\u001b[0m, in \u001b[0;36mStorageStreamDownloader.__init__\u001b[1;34m(self, clients, config, start_range, end_range, validate_content, encryption_options, max_concurrency, name, container, encoding, download_cls, **kwargs)\u001b[0m\n\u001b[0;32m    356\u001b[0m     initial_request_end \u001b[39m=\u001b[39m initial_request_start \u001b[39m+\u001b[39m \u001b[39mself\u001b[39m\u001b[39m.\u001b[39m_first_get_size \u001b[39m-\u001b[39m \u001b[39m1\u001b[39m\n\u001b[0;32m    358\u001b[0m \u001b[39mself\u001b[39m\u001b[39m.\u001b[39m_initial_range, \u001b[39mself\u001b[39m\u001b[39m.\u001b[39m_initial_offset \u001b[39m=\u001b[39m process_range_and_offset(\n\u001b[0;32m    359\u001b[0m     initial_request_start,\n\u001b[0;32m    360\u001b[0m     initial_request_end,\n\u001b[1;32m   (...)\u001b[0m\n\u001b[0;32m    363\u001b[0m     \u001b[39mself\u001b[39m\u001b[39m.\u001b[39m_encryption_data\n\u001b[0;32m    364\u001b[0m )\n\u001b[1;32m--> 366\u001b[0m \u001b[39mself\u001b[39m\u001b[39m.\u001b[39m_response \u001b[39m=\u001b[39m \u001b[39mself\u001b[39;49m\u001b[39m.\u001b[39;49m_initial_request()\n\u001b[0;32m    367\u001b[0m \u001b[39mself\u001b[39m\u001b[39m.\u001b[39mproperties \u001b[39m=\u001b[39m \u001b[39mself\u001b[39m\u001b[39m.\u001b[39m_response\u001b[39m.\u001b[39mproperties\n\u001b[0;32m    368\u001b[0m \u001b[39mself\u001b[39m\u001b[39m.\u001b[39mproperties\u001b[39m.\u001b[39mname \u001b[39m=\u001b[39m \u001b[39mself\u001b[39m\u001b[39m.\u001b[39mname\n",
      "File \u001b[1;32mc:\\Users\\01122464\\AppData\\Local\\Programs\\Python\\Python39\\lib\\site-packages\\azure\\storage\\blob\\_download.py:462\u001b[0m, in \u001b[0;36mStorageStreamDownloader._initial_request\u001b[1;34m(self)\u001b[0m\n\u001b[0;32m    460\u001b[0m         \u001b[39mself\u001b[39m\u001b[39m.\u001b[39m_file_size \u001b[39m=\u001b[39m \u001b[39m0\u001b[39m\n\u001b[0;32m    461\u001b[0m     \u001b[39melse\u001b[39;00m:\n\u001b[1;32m--> 462\u001b[0m         process_storage_error(error)\n\u001b[0;32m    464\u001b[0m \u001b[39mtry\u001b[39;00m:\n\u001b[0;32m    465\u001b[0m     \u001b[39mif\u001b[39;00m \u001b[39mself\u001b[39m\u001b[39m.\u001b[39msize \u001b[39m==\u001b[39m \u001b[39m0\u001b[39m:\n",
      "File \u001b[1;32mc:\\Users\\01122464\\AppData\\Local\\Programs\\Python\\Python39\\lib\\site-packages\\azure\\storage\\blob\\_shared\\response_handlers.py:184\u001b[0m, in \u001b[0;36mprocess_storage_error\u001b[1;34m(storage_error)\u001b[0m\n\u001b[0;32m    181\u001b[0m error\u001b[39m.\u001b[39margs \u001b[39m=\u001b[39m (error\u001b[39m.\u001b[39mmessage,)\n\u001b[0;32m    182\u001b[0m \u001b[39mtry\u001b[39;00m:\n\u001b[0;32m    183\u001b[0m     \u001b[39m# `from None` prevents us from double printing the exception (suppresses generated layer error context)\u001b[39;00m\n\u001b[1;32m--> 184\u001b[0m     exec(\u001b[39m\"\u001b[39;49m\u001b[39mraise error from None\u001b[39;49m\u001b[39m\"\u001b[39;49m)   \u001b[39m# pylint: disable=exec-used # nosec\u001b[39;00m\n\u001b[0;32m    185\u001b[0m \u001b[39mexcept\u001b[39;00m \u001b[39mSyntaxError\u001b[39;00m \u001b[39mas\u001b[39;00m exc:\n\u001b[0;32m    186\u001b[0m     \u001b[39mraise\u001b[39;00m error \u001b[39mfrom\u001b[39;00m \u001b[39mexc\u001b[39;00m\n",
      "File \u001b[1;32m<string>:1\u001b[0m\n",
      "\u001b[1;31mHttpResponseError\u001b[0m: This request is not authorized to perform this operation using this permission.\nRequestId:6ddd4100-c01e-0056-199a-1834ce000000\nTime:2023-11-16T14:36:09.6040874Z\nErrorCode:AuthorizationPermissionMismatch\nContent: <?xml version=\"1.0\" encoding=\"utf-8\"?><Error><Code>AuthorizationPermissionMismatch</Code><Message>This request is not authorized to perform this operation using this permission.\nRequestId:6ddd4100-c01e-0056-199a-1834ce000000\nTime:2023-11-16T14:36:09.6040874Z</Message></Error>"
     ]
    }
   ],
   "source": [
    "# Download the blob to a local file\n",
    "local_path = \"assets/jsons/\"\n",
    "# Add 'AFS' before the .json extension to see both files in the data directory\n",
    "download_file_path = os.path.join(local_path, str.replace('err_indata.json','.json','AFS.json')) \n",
    "container_client = blob_service_client.get_container_client(container='jsons') \n",
    "print(\"\\nDownloading blob to \\n\\t\" + download_file_path)\n",
    "\n",
    "with open(file=download_file_path, mode=\"wb\") as download_file:\n",
    " download_file.write(container_client.download_blob('test1.json').readall())"
   ]
  },
  {
   "cell_type": "markdown",
   "metadata": {},
   "source": [
    "### More advanced download:\n",
    "\n",
    "1. Creating container_client \n",
    "2. Listing blobs inside the container `jsons`\n",
    "3. Iterating over downlading from container into `local_path`"
   ]
  },
  {
   "cell_type": "code",
   "execution_count": 11,
   "metadata": {},
   "outputs": [
    {
     "name": "stdout",
     "output_type": "stream",
     "text": [
      "Folder already exists. Proceeding to downlad\n",
      "\n",
      "Downloading blob to \n",
      "\tassets/jsons/err_indataAFS.json\n",
      "\n",
      "Downloading blob to \n",
      "\tassets/jsons/indataAFS.json\n",
      "\n",
      "Downloading blob to \n",
      "\tassets/jsons/test1AFS.json\n"
     ]
    }
   ],
   "source": [
    "# Download the blob to a local file\n",
    "local_path = \"assets/jsons/\"\n",
    "try:\n",
    "    os.mkdir(local_path)\n",
    "except:\n",
    "    print(\"Folder already exists. Proceeding to downlad\")\n",
    "# Read the container for filenames:\n",
    "container_client = blob_service_client.get_container_client(container='jsons')\n",
    "filenames = container_client.list_blobs()\n",
    "# Add 'AFS' before the .json extension to see both files in the data directory\n",
    "for blob in filenames:\n",
    "    with open('{}{}'.format(local_path, blob.name), 'w') as fp: \n",
    "        pass\n",
    "    download_file_path = os.path.join(local_path, str.replace(blob.name ,'.json', 'AFS.json'))\n",
    "    print(\"\\nDownloading blob to \\n\\t\" + download_file_path)\n",
    "    with open(file=download_file_path, mode=\"wb\") as download_file:\n",
    "        download_file.write(container_client.download_blob(blob.name).readall())"
   ]
  },
  {
   "cell_type": "markdown",
   "metadata": {},
   "source": [
    "### Deleting files in the container"
   ]
  },
  {
   "cell_type": "code",
   "execution_count": 9,
   "metadata": {},
   "outputs": [
    {
     "name": "stdout",
     "output_type": "stream",
     "text": [
      "Deleted blob:err_indata.json\n",
      "Deleted blob:indata.json\n",
      "Deleted blob:test1.json\n"
     ]
    }
   ],
   "source": [
    "filenames = container_client.list_blobs()\n",
    "\n",
    "for blob in filenames:\n",
    "    container_client.delete_blob(blob.name)\n",
    "    print(\"Deleted blob:{}\".format(blob.name))"
   ]
  },
  {
   "cell_type": "markdown",
   "metadata": {},
   "source": [
    "### Uploading files into the container"
   ]
  },
  {
   "cell_type": "code",
   "execution_count": 19,
   "metadata": {},
   "outputs": [
    {
     "name": "stdout",
     "output_type": "stream",
     "text": [
      "['err_indata.json', 'indata.json', 'test1.json']\n",
      "22-10-1_25/10/2023 Test_user\n",
      "{\n",
      "    \"username\": \"Test_user\",\n",
      "    \"operations\": [\n",
      "    {   \"type\": \"switch\",\n",
      "        \"date\": \"22:10:1_25/10/2023\"\n",
      "    },\n",
      "    {   \"type\": \"ope\",\n",
      "        \"date\": \"08:10:12_26/10/2023\"\n",
      "    },\n",
      "    {   \"type\": \"open\",\n",
      "        \"date\": \"12:10:12_26/10/2023\"\n",
      "    },\n",
      "    {   \"type\": \"open\",\n",
      "        \"date\": \"14:10:12_26/10/2023\"\n",
      "    },\n",
      "    {   \"type\": \"open\",\n",
      "        \"date\": \"16:10:12_26/10/2023\"\n",
      "    },\n",
      "    {   \"type\": \"open\",\n",
      "        \"date\": \"18:10:12_26/10/2023\"\n",
      "    },\n",
      "    {   \"type\": \"opn\",\n",
      "        \"date\": \"22:10:12_26/10/2023\"\n",
      "    }\n",
      "    ]\n",
      "}\n",
      "22-10-12_25/10/2023 Test_user\n",
      "{\n",
      "    \"username\": \"Test_user\",\n",
      "    \"operations\": [\n",
      "    {   \"type\": \"switch\",\n",
      "        \"date\": \"22:10:1_25/10/2023\"\n",
      "    },\n",
      "    {   \"type\": \"ope\",\n",
      "        \"date\": \"08:10:12_26/10/2023\"\n",
      "    },\n",
      "    {   \"type\": \"open\",\n",
      "        \"date\": \"12:10:12_26/10/2023\"\n",
      "    },\n",
      "    {   \"type\": \"open\",\n",
      "        \"date\": \"14:10:12_26/10/2023\"\n",
      "    },\n",
      "    {   \"type\": \"open\",\n",
      "        \"date\": \"16:10:12_26/10/2023\"\n",
      "    },\n",
      "    {   \"type\": \"open\",\n",
      "        \"date\": \"18:10:12_26/10/2023\"\n",
      "    },\n",
      "    {   \"type\": \"opn\",\n",
      "        \"date\": \"22:10:12_26/10/2023\"\n",
      "    }\n",
      "    ]\n",
      "}\n",
      "22-10-12_25/10/2023 Tester_manual\n",
      "{\n",
      "    \"username\": \"Test_user\",\n",
      "    \"operations\": [\n",
      "    {   \"type\": \"switch\",\n",
      "        \"date\": \"22:10:1_25/10/2023\"\n",
      "    },\n",
      "    {   \"type\": \"ope\",\n",
      "        \"date\": \"08:10:12_26/10/2023\"\n",
      "    },\n",
      "    {   \"type\": \"open\",\n",
      "        \"date\": \"12:10:12_26/10/2023\"\n",
      "    },\n",
      "    {   \"type\": \"open\",\n",
      "        \"date\": \"14:10:12_26/10/2023\"\n",
      "    },\n",
      "    {   \"type\": \"open\",\n",
      "        \"date\": \"16:10:12_26/10/2023\"\n",
      "    },\n",
      "    {   \"type\": \"open\",\n",
      "        \"date\": \"18:10:12_26/10/2023\"\n",
      "    },\n",
      "    {   \"type\": \"opn\",\n",
      "        \"date\": \"22:10:12_26/10/2023\"\n",
      "    }\n",
      "    ]\n",
      "}\n"
     ]
    }
   ],
   "source": [
    "import glob, json\n",
    "uploads = glob.glob('*.json')\n",
    "print(uploads)\n",
    "for js in uploads:\n",
    "    with open(js) as jsf:\n",
    "        #blob = jsf.read()\n",
    "        dict = json.load(jsf)\n",
    "        username = dict['username']\n",
    "        date = dict['operations'][0]['date']\n",
    "        date = str.replace(date, \":\", \"-\")\n",
    "        print(date, username)\n",
    "    print(blob)\n",
    "    #blob_client = blob_service_client.get_blob_client(container='jsons', blob=js)\n",
    "    #blob_client.upload_blob(blob, blob_type=\"BlockBlob\")"
   ]
  },
  {
   "cell_type": "markdown",
   "metadata": {},
   "source": [
    "Advanced Uploading testing:"
   ]
  },
  {
   "cell_type": "code",
   "execution_count": 31,
   "metadata": {},
   "outputs": [
    {
     "name": "stdout",
     "output_type": "stream",
     "text": [
      "Tester_manual_22:10:12_25-10-2023\n",
      "['Tester_manual_22:10:12_25-10-2023', 'err_indata.json', 'indata.json', 'test1.json']\n",
      "File already exists\n",
      "Folder already exists. Proceeding to downlad\n"
     ]
    },
    {
     "ename": "OSError",
     "evalue": "[Errno 22] Invalid argument: 'assets/test2/Tester_manual_22:10:12_25-10-2023'",
     "output_type": "error",
     "traceback": [
      "\u001b[1;31m---------------------------------------------------------------------------\u001b[0m",
      "\u001b[1;31mOSError\u001b[0m                                   Traceback (most recent call last)",
      "\u001b[1;32mc:\\Users\\01122464\\SmokeOut\\tests\\BlobConnection_testing.ipynb Cell 15\u001b[0m line \u001b[0;36m4\n\u001b[0;32m     <a href='vscode-notebook-cell:/c%3A/Users/01122464/SmokeOut/tests/BlobConnection_testing.ipynb#X20sZmlsZQ%3D%3D?line=37'>38</a>\u001b[0m \u001b[39m# Add 'AFS' before the .json extension to see both files in the data directory\u001b[39;00m\n\u001b[0;32m     <a href='vscode-notebook-cell:/c%3A/Users/01122464/SmokeOut/tests/BlobConnection_testing.ipynb#X20sZmlsZQ%3D%3D?line=38'>39</a>\u001b[0m \u001b[39mfor\u001b[39;00m blob \u001b[39min\u001b[39;00m filenames:\n\u001b[1;32m---> <a href='vscode-notebook-cell:/c%3A/Users/01122464/SmokeOut/tests/BlobConnection_testing.ipynb#X20sZmlsZQ%3D%3D?line=39'>40</a>\u001b[0m     \u001b[39mwith\u001b[39;00m \u001b[39mopen\u001b[39;49m(\u001b[39m'\u001b[39;49m\u001b[39m{}\u001b[39;49;00m\u001b[39m{}\u001b[39;49;00m\u001b[39m'\u001b[39;49m\u001b[39m.\u001b[39;49mformat(local_path, blob\u001b[39m.\u001b[39;49mname), \u001b[39m'\u001b[39;49m\u001b[39mw\u001b[39;49m\u001b[39m'\u001b[39;49m) \u001b[39mas\u001b[39;00m fp: \n\u001b[0;32m     <a href='vscode-notebook-cell:/c%3A/Users/01122464/SmokeOut/tests/BlobConnection_testing.ipynb#X20sZmlsZQ%3D%3D?line=40'>41</a>\u001b[0m         \u001b[39mpass\u001b[39;00m\n\u001b[0;32m     <a href='vscode-notebook-cell:/c%3A/Users/01122464/SmokeOut/tests/BlobConnection_testing.ipynb#X20sZmlsZQ%3D%3D?line=41'>42</a>\u001b[0m     download_file_path \u001b[39m=\u001b[39m os\u001b[39m.\u001b[39mpath\u001b[39m.\u001b[39mjoin(local_path, \u001b[39mstr\u001b[39m\u001b[39m.\u001b[39mreplace(blob\u001b[39m.\u001b[39mname ,\u001b[39m'\u001b[39m\u001b[39m.json\u001b[39m\u001b[39m'\u001b[39m, \u001b[39m'\u001b[39m\u001b[39mAFS.json\u001b[39m\u001b[39m'\u001b[39m))\n",
      "File \u001b[1;32mc:\\Users\\01122464\\AppData\\Local\\Programs\\Python\\Python39\\lib\\site-packages\\IPython\\core\\interactiveshell.py:308\u001b[0m, in \u001b[0;36m_modified_open\u001b[1;34m(file, *args, **kwargs)\u001b[0m\n\u001b[0;32m    301\u001b[0m \u001b[39mif\u001b[39;00m file \u001b[39min\u001b[39;00m {\u001b[39m0\u001b[39m, \u001b[39m1\u001b[39m, \u001b[39m2\u001b[39m}:\n\u001b[0;32m    302\u001b[0m     \u001b[39mraise\u001b[39;00m \u001b[39mValueError\u001b[39;00m(\n\u001b[0;32m    303\u001b[0m         \u001b[39mf\u001b[39m\u001b[39m\"\u001b[39m\u001b[39mIPython won\u001b[39m\u001b[39m'\u001b[39m\u001b[39mt let you open fd=\u001b[39m\u001b[39m{\u001b[39;00mfile\u001b[39m}\u001b[39;00m\u001b[39m by default \u001b[39m\u001b[39m\"\u001b[39m\n\u001b[0;32m    304\u001b[0m         \u001b[39m\"\u001b[39m\u001b[39mas it is likely to crash IPython. If you know what you are doing, \u001b[39m\u001b[39m\"\u001b[39m\n\u001b[0;32m    305\u001b[0m         \u001b[39m\"\u001b[39m\u001b[39myou can use builtins\u001b[39m\u001b[39m'\u001b[39m\u001b[39m open.\u001b[39m\u001b[39m\"\u001b[39m\n\u001b[0;32m    306\u001b[0m     )\n\u001b[1;32m--> 308\u001b[0m \u001b[39mreturn\u001b[39;00m io_open(file, \u001b[39m*\u001b[39margs, \u001b[39m*\u001b[39m\u001b[39m*\u001b[39mkwargs)\n",
      "\u001b[1;31mOSError\u001b[0m: [Errno 22] Invalid argument: 'assets/test2/Tester_manual_22:10:12_25-10-2023'"
     ]
    }
   ],
   "source": [
    "import glob, json\n",
    "\n",
    "js = 'test1.json'\n",
    "\n",
    "connect_str = os.getenv('AZURE_STORAGE_CONNECTION_STRING')\n",
    "# Create the BlobServiceClient object\n",
    "blob_service_client = BlobServiceClient.from_connection_string(connect_str)\n",
    "# Retriving username and first datetime from the file\n",
    "with open(js) as file:\n",
    "    dict = json.load(file)\n",
    "    username = dict[\"username\"]\n",
    "    dt = dict[\"operations\"][0][\"date\"]\n",
    "    dt = str.replace(dt, \"/\", \"-\")\n",
    "    data = file.read()\n",
    "    name = \"{}_{}\".format(username, dt)\n",
    "    print(name)\n",
    "# Download a list of files in the 'jsons' container\n",
    "container_client = blob_service_client.get_container_client(container='jsons')\n",
    "bl = container_client.list_blobs()\n",
    "filenames = []\n",
    "for b in bl:\n",
    "    filenames.append(b.name)\n",
    "print(filenames)\n",
    "# Check if the file already exists in the cloud: and upload it if not\n",
    "if name in filenames:\n",
    "    print(\"File already exists\")\n",
    "else:\n",
    "    blob_client = blob_service_client.get_blob_client(container='jsons', blob=name)\n",
    "    blob_client.upload_blob(data, blob_type=\"BlockBlob\")\n",
    "\n",
    "filenames = container_client.list_blobs()\n",
    "# Download the blob to a local file\n",
    "try:\n",
    "    local_path = \"assets/test2/\"\n",
    "    os.mkdir(local_path)\n",
    "except:\n",
    "    print(\"Folder already exists. Proceeding to downlad\")\n",
    "# Add 'AFS' before the .json extension to see both files in the data directory\n",
    "for blob in filenames:\n",
    "    with open('{}{}'.format(local_path, blob.name), 'w') as fp: \n",
    "        pass\n",
    "    download_file_path = os.path.join(local_path, str.replace(blob.name ,'.json', 'AFS.json'))\n",
    "    print(\"\\nDownloading blob to \\n\\t\" + download_file_path)\n",
    "    with open(file=download_file_path, mode=\"wb\") as download_file:\n",
    "        download_file.write(container_client.download_blob(blob.name).readall())\n",
    "\n",
    "# Delete\n",
    "for blob in filenames:\n",
    "    container_client.delete_blob(blob.name)\n",
    "    print(\"Deleted blob:{}\".format(blob.name))\n"
   ]
  }
 ],
 "metadata": {
  "kernelspec": {
   "display_name": "Python 3",
   "language": "python",
   "name": "python3"
  },
  "language_info": {
   "codemirror_mode": {
    "name": "ipython",
    "version": 3
   },
   "file_extension": ".py",
   "mimetype": "text/x-python",
   "name": "python",
   "nbconvert_exporter": "python",
   "pygments_lexer": "ipython3",
   "version": "3.9.5"
  }
 },
 "nbformat": 4,
 "nbformat_minor": 2
}
