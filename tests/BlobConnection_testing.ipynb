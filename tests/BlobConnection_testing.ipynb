{
 "cells": [
  {
   "cell_type": "code",
   "execution_count": 1,
   "metadata": {},
   "outputs": [],
   "source": [
    "import os, uuid\n",
    "from azure.identity import DefaultAzureCredential\n",
    "from azure.storage.blob import BlobServiceClient, BlobClient, ContainerClient"
   ]
  },
  {
   "cell_type": "markdown",
   "metadata": {},
   "source": [
    "### Establishing connection with Azure"
   ]
  },
  {
   "cell_type": "code",
   "execution_count": 2,
   "metadata": {},
   "outputs": [],
   "source": [
    "# Retrieve the connection string for use with the application. The storage\n",
    "# connection string is stored in an environment variable on the machine\n",
    "# running the application called AZURE_STORAGE_CONNECTION_STRING. If the environment variable is\n",
    "# created after the application is launched in a console or with Visual Studio,\n",
    "# the shell or application needs to be closed and reloaded to take the\n",
    "# environment variable into account.\n",
    "connect_str = os.getenv('AZURE_STORAGE_CONNECTION_STRING')\n",
    "# Create the BlobServiceClient object\n",
    "blob_service_client = BlobServiceClient.from_connection_string(connect_str)"
   ]
  },
  {
   "cell_type": "markdown",
   "metadata": {},
   "source": [
    "### Utilizing DefaultAzureCredential"
   ]
  },
  {
   "cell_type": "code",
   "execution_count": 12,
   "metadata": {},
   "outputs": [],
   "source": [
    "account_url = \"https://inappjson.blob.core.windows.net\"\n",
    "default_credential = DefaultAzureCredential()\n",
    "\n",
    "# Create the BlobServiceClient object\n",
    "blob_service_client = BlobServiceClient(account_url, credential=default_credential)"
   ]
  },
  {
   "cell_type": "markdown",
   "metadata": {},
   "source": [
    "Sample blob download - one file into one location"
   ]
  },
  {
   "cell_type": "code",
   "execution_count": 11,
   "metadata": {},
   "outputs": [
    {
     "name": "stdout",
     "output_type": "stream",
     "text": [
      "\n",
      "Downloading blob to \n",
      "\tassets/jsons/err_indataAFS.json\n"
     ]
    }
   ],
   "source": [
    "# Download the blob to a local file\n",
    "local_path = \"assets/jsons/\"\n",
    "# Add 'AFS' before the .json extension to see both files in the data directory\n",
    "download_file_path = os.path.join(local_path, str.replace('err_indata.json','.json','AFS.json')) \n",
    "container_client = blob_service_client.get_container_client(container='jsons') \n",
    "print(\"\\nDownloading blob to \\n\\t\" + download_file_path)\n",
    "\n",
    "with open(file=download_file_path, mode=\"wb\") as download_file:\n",
    " download_file.write(container_client.download_blob('test1.json').readall())"
   ]
  },
  {
   "cell_type": "markdown",
   "metadata": {},
   "source": [
    "### More advanced download:\n",
    "\n",
    "1. Creating container_client \n",
    "2. Listing blobs inside the container `jsons`\n",
    "3. Iterating over downlading from container into `local_path`"
   ]
  },
  {
   "cell_type": "code",
   "execution_count": 16,
   "metadata": {},
   "outputs": [
    {
     "name": "stdout",
     "output_type": "stream",
     "text": [
      "\n",
      "Downloading blob to \n",
      "\tassets/jsons/err_indataAFS.json\n",
      "\n",
      "Downloading blob to \n",
      "\tassets/jsons/indataAFS.json\n",
      "\n",
      "Downloading blob to \n",
      "\tassets/jsons/test1AFS.json\n"
     ]
    }
   ],
   "source": [
    "# Download the blob to a local file\n",
    "local_path = \"assets/jsons/\"\n",
    "os.mkdir(local_path)\n",
    "# Read the container for filenames:\n",
    "container_client = blob_service_client.get_container_client(container='jsons')\n",
    "filenames = container_client.list_blobs()\n",
    "# Add 'AFS' before the .json extension to see both files in the data directory\n",
    "for blob in filenames:\n",
    "    with open('{}{}'.format(local_path, blob.name), 'w') as fp: \n",
    "        pass\n",
    "    download_file_path = os.path.join(local_path, str.replace(blob.name ,'.json', 'AFS.json'))\n",
    "    print(\"\\nDownloading blob to \\n\\t\" + download_file_path)\n",
    "    with open(file=download_file_path, mode=\"wb\") as download_file:\n",
    "        download_file.write(container_client.download_blob(blob.name).readall())"
   ]
  },
  {
   "cell_type": "markdown",
   "metadata": {},
   "source": [
    "### Deleting files in the container"
   ]
  },
  {
   "cell_type": "code",
   "execution_count": 7,
   "metadata": {},
   "outputs": [],
   "source": [
    "filenames = container_client.list_blobs()\n",
    "\n",
    "for blob in filenames:\n",
    "    container_client.delete_blob(blob.name)\n",
    "    print(\"Deleted blob:{}\".format(blob.name))"
   ]
  },
  {
   "cell_type": "markdown",
   "metadata": {},
   "source": [
    "### Uploading files into the container"
   ]
  },
  {
   "cell_type": "code",
   "execution_count": 11,
   "metadata": {},
   "outputs": [
    {
     "name": "stdout",
     "output_type": "stream",
     "text": [
      "['err_indata.json', 'indata.json', 'test1.json']\n"
     ]
    }
   ],
   "source": [
    "import glob\n",
    "uploads = glob.glob('*.json')\n",
    "print(uploads)\n",
    "for blob in uploads:\n",
    "    blob_client = blob_service_client.get_blob_client(container='jsons', blob=blob)\n",
    "    blob_client.upload_blob(blob, blob_type=\"BlockBlob\")"
   ]
  }
 ],
 "metadata": {
  "kernelspec": {
   "display_name": "Python 3",
   "language": "python",
   "name": "python3"
  },
  "language_info": {
   "codemirror_mode": {
    "name": "ipython",
    "version": 3
   },
   "file_extension": ".py",
   "mimetype": "text/x-python",
   "name": "python",
   "nbconvert_exporter": "python",
   "pygments_lexer": "ipython3",
   "version": "3.9.5"
  }
 },
 "nbformat": 4,
 "nbformat_minor": 2
}
