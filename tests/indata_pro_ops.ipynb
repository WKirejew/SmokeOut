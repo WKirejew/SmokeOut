{
 "cells": [
  {
   "cell_type": "code",
   "execution_count": 15,
   "metadata": {},
   "outputs": [],
   "source": [
    "import json\n",
    "import pandas as pd"
   ]
  },
  {
   "cell_type": "markdown",
   "metadata": {},
   "source": [
    "# Introduction of Class InData"
   ]
  },
  {
   "cell_type": "code",
   "execution_count": 16,
   "metadata": {},
   "outputs": [],
   "source": [
    "\n",
    "class InData:\n",
    "    \"\"\"\n",
    "    Class for input data, that allows for conversion into input to tables of DataBase, define the datastructure and operations over those tables\n",
    "    \n",
    "    Attributes\n",
    "    ----------\n",
    "    json : json.object\n",
    "        loaded json file with user's inpiut data\n",
    "    username : str\n",
    "        name of user to whom the data belongs\n",
    "    open : list of str\n",
    "        list of strings, containing [SQL - DateTime2(0)] formatted date of device's openings\n",
    "    switch : list of str\n",
    "        list of strings, containing [SQL - DateTime2(0)] formatted date of cigarettes' package switching\n",
    "    \"\"\"\n",
    "    def __init__(self, JSON):\n",
    "         \"\"\"\n",
    "        Parameters\n",
    "        ----------\n",
    "        JSON : str to JSON file\n",
    "            Allow of opening and reading from the JSON file containing user input data\n",
    "        \"\"\"\n",
    "         self.json = pd.read_json(JSON)\n",
    "         self.username = \"\"\n",
    "         self.UserID = int\n",
    "         self.open = []\n",
    "         self.switch = []\n",
    "\n",
    "    def adddate(self, att, date):\n",
    "         \"\"\"\n",
    "        Converts date-time into SQL ready format and append it to an attribute specified by boolean variable att \n",
    "\n",
    "        Parameters\n",
    "        ----------\n",
    "        type : boolean\n",
    "            value of 0 - type is \"opening\"\n",
    "            value of 1 - type is \"switch\"\n",
    "        date : str\n",
    "            Contains date_time information in a format of the JSON file\n",
    "        \"\"\"\n",
    "        # Reading information from \"date\" string\n",
    "         try:\n",
    "             hour = int(date[0:2])\n",
    "             hour = '0' + str(hour) if hour < 10 else str(hour)\n",
    "             minute = int(date[3:5])\n",
    "             minute = '0' + str(minute) if minute < 10 else str(minute)\n",
    "             second = int(date[6:8])\n",
    "             second = '0' + str(second) if second < 10 else str(second)\n",
    "             day = int(date[9:11])\n",
    "             day = '0' + str(day) if day <10 else str(day)\n",
    "             month = int(date[12:14])\n",
    "             month = '0' + str(month) if month <10 else str(month)\n",
    "             year = int(date[15:])\n",
    "        # Constructing the string of SQL's DateTime2(0) format\n",
    "             dateSQL = str(year) + \"-\" + month + \"-\" + day + \" \" + hour + \":\" + minute + \":\" + second\n",
    "         except:\n",
    "             print(\"Error occured: wrong datetime\")\n",
    "             raise SystemExit\n",
    "        # Appending\n",
    "         try:\n",
    "             if att == 0:\n",
    "                self.open.append(dateSQL)\n",
    "             elif att == 1:\n",
    "                self.switch.append(dateSQL)\n",
    "         except:\n",
    "             print(\"An error occured while writing date of choosen type\")\n",
    "             raise SystemExit\n",
    "    \n",
    "    def extract(self):\n",
    "         \"\"\"\n",
    "        Extract information from JSON: username, dates of device opening and package switching from json into self.open and self.switch.\n",
    "        Decodes the datetime format of input into datetime format of Data, using adddate() function\n",
    "        \"\"\"\n",
    "        # Retriving username, with error handling implemented\n",
    "         try:\n",
    "            inv_usrn = None\n",
    "            for i in self.json[\"username\"]:\n",
    "                try:\n",
    "                    self.username = i\n",
    "                    if i != self.json[\"username\"][1]:\n",
    "                        inv_usrn = 1\n",
    "                        break\n",
    "                except:\n",
    "                    print(\"An error with username occured\")\n",
    "                    raise SystemExit\n",
    "         except NameError:\n",
    "             print(\"NameError\")\n",
    "             raise SystemExit\n",
    "         finally:\n",
    "             if inv_usrn is not None:\n",
    "                 self.username = None\n",
    "                 print (\"Error occured - username is not consistent\")\n",
    "                 raise SystemExit\n",
    "        # Retriving opening and switching information from JSON file, returning error when data type is other than \"open\" or \"switch\"\n",
    "         try:\n",
    "             for i in self.json['operations']:\n",
    "                if i[\"type\"] == \"open\":\n",
    "                  self.adddate( 0, i[\"date\"])\n",
    "                elif i[\"type\"] == \"switch\":\n",
    "                  self.adddate( 1, i[\"date\"])\n",
    "         except:\n",
    "             print(\"An error has occured during date extraction\")\n",
    "             raise SystemExit\n",
    "         \n",
    "\n"
   ]
  },
  {
   "cell_type": "markdown",
   "metadata": {},
   "source": [
    "## Test of correct input data"
   ]
  },
  {
   "cell_type": "code",
   "execution_count": 17,
   "metadata": {},
   "outputs": [
    {
     "name": "stdout",
     "output_type": "stream",
     "text": [
      "DataFrame of json:\n",
      "     username                                         operations\n",
      "0  Test_user  {'type': 'switch', 'date': '22:10:12_25/10/2023'}\n",
      "1  Test_user    {'type': 'open', 'date': '08:10:12_26/10/2023'}\n",
      "2  Test_user    {'type': 'open', 'date': '12:10:12_26/10/2023'}\n",
      "3  Test_user    {'type': 'open', 'date': '14:10:12_26/10/2023'}\n",
      "4  Test_user    {'type': 'open', 'date': '16:10:12_26/10/2023'}\n",
      "5  Test_user    {'type': 'open', 'date': '18:10:12_26/10/2023'}\n",
      "6  Test_user    {'type': 'open', 'date': '22:10:12_26/10/2023'}\n",
      "Username:\n",
      " Test_user\n",
      "Opening dates:\n",
      " ['2023-10-26 08:10:12', '2023-10-26 12:10:12', '2023-10-26 14:10:12', '2023-10-26 16:10:12', '2023-10-26 18:10:12', '2023-10-26 22:10:12']\n",
      "Switching dates:\n",
      " ['2023-10-25 22:10:12']\n",
      "<__main__.InData object at 0x00000155BEF86BB0>\n"
     ]
    }
   ],
   "source": [
    "# Loading test data \"indata.json\" into object of tested class - x [of type InData]\n",
    "x = InData(\"indata.json\")\n",
    "print(\"DataFrame of json:\\n\", x.json)\n",
    "x.extract()\n",
    "print(\"Username:\\n\", x.username)\n",
    "print(\"Opening dates:\\n\", x.open)\n",
    "print(\"Switching dates:\\n\", x.switch)\n",
    "print(x)"
   ]
  },
  {
   "cell_type": "markdown",
   "metadata": {},
   "source": [
    "## Test of incorrect input data:"
   ]
  },
  {
   "cell_type": "markdown",
   "metadata": {},
   "source": [
    "#### Faulty data with non-consistent username added"
   ]
  },
  {
   "cell_type": "code",
   "execution_count": 18,
   "metadata": {},
   "outputs": [
    {
     "name": "stdout",
     "output_type": "stream",
     "text": [
      "DF of json:\n",
      "      username                                        operations\n",
      "0   Test_user  {'type': 'switch', 'date': '22:10:1_25/10/2023'}\n",
      "1   Test_user    {'type': 'ope', 'date': '08:10:12_26/10/2023'}\n",
      "2  wrong_user   {'type': 'open', 'date': '12:10:12_26/10/2023'}\n",
      "3   Test_user   {'type': 'open', 'date': '14:10:12_26/10/2023'}\n",
      "4   Test_user   {'type': 'open', 'date': '16:10:12_26/10/2023'}\n",
      "5   Test_user   {'type': 'open', 'date': '18:10:12_26/10/2023'}\n",
      "6   Test_user    {'type': 'opn', 'date': '22:10:12_26/10/2023'}\n",
      "Error occured - username is not consistent\n"
     ]
    },
    {
     "ename": "SystemExit",
     "evalue": "",
     "output_type": "error",
     "traceback": [
      "An exception has occurred, use %tb to see the full traceback.\n",
      "\u001b[1;31mSystemExit\u001b[0m\n"
     ]
    },
    {
     "name": "stderr",
     "output_type": "stream",
     "text": [
      "c:\\Users\\01122464\\AppData\\Local\\Programs\\Python\\Python39\\lib\\site-packages\\IPython\\core\\interactiveshell.py:3556: UserWarning: To exit: use 'exit', 'quit', or Ctrl-D.\n",
      "  warn(\"To exit: use 'exit', 'quit', or Ctrl-D.\", stacklevel=1)\n"
     ]
    }
   ],
   "source": [
    "err = InData(\"err_indata.json\")\n",
    "# Adding error in username\n",
    "err.json[\"username\"][2] = \"wrong_user\"\n",
    "print(\"DF of json:\\n\", err.json)\n",
    "err.extract()\n",
    "print(\"Username:\\n\", err.username)\n",
    "print(\"Opening dates:\\n\", err.open)\n",
    "print(\"Switching dates:\\n\", err.switch)"
   ]
  },
  {
   "cell_type": "markdown",
   "metadata": {},
   "source": [
    "#### Remove wrong username"
   ]
  },
  {
   "cell_type": "code",
   "execution_count": null,
   "metadata": {},
   "outputs": [],
   "source": [
    "err = InData(\"err_indata.json\")\n",
    "print(\"DF of json:\\n\", err.json)\n",
    "err.extract()\n",
    "print(\"Username:\\n\", err.username)\n",
    "print(\"Opening dates:\\n\", err.open)\n",
    "print(\"Switching dates:\\n\", err.switch)"
   ]
  },
  {
   "cell_type": "markdown",
   "metadata": {},
   "source": [
    "#### Correct types of operations"
   ]
  },
  {
   "cell_type": "code",
   "execution_count": null,
   "metadata": {},
   "outputs": [],
   "source": [
    "err = InData(\"err_indata.json\")\n",
    "print(\"DF of json:\\n\", err.json)\n",
    "# quick fix of err_indata - just for test, won't work with a lot of other errors\n",
    "for i in err.json['operations']:\n",
    "    if i[\"type\"] != \"open\" and i[\"type\"] != \"switch\":\n",
    "        for c in i[\"type\"]:\n",
    "            if c == \"o\" or \"p\" or \"n\":\n",
    "                i[\"type\"] = \"open\"\n",
    "            else:\n",
    "                i[\"type\"] = \"switch\"\n",
    "            break\n",
    "# corre\n",
    "print(\"DF of json:\\n\", err.json)\n",
    "err.extract()\n",
    "print(\"Username:\\n\", err.username)\n",
    "print(\"Opening dates:\\n\", err.open)\n",
    "print(\"Switching dates:\\n\", err.switch)"
   ]
  },
  {
   "cell_type": "code",
   "execution_count": 19,
   "metadata": {},
   "outputs": [
    {
     "name": "stdout",
     "output_type": "stream",
     "text": [
      "08:10:12_26/10/2023\n"
     ]
    }
   ],
   "source": [
    "nata = InData(\"indata.json\")\n",
    "date = nata.json['operations'][1]['date']\n",
    "print(date)"
   ]
  }
 ],
 "metadata": {
  "kernelspec": {
   "display_name": "Python 3",
   "language": "python",
   "name": "python3"
  },
  "language_info": {
   "codemirror_mode": {
    "name": "ipython",
    "version": 3
   },
   "file_extension": ".py",
   "mimetype": "text/x-python",
   "name": "python",
   "nbconvert_exporter": "python",
   "pygments_lexer": "ipython3",
   "version": "3.9.5"
  }
 },
 "nbformat": 4,
 "nbformat_minor": 2
}
