{
 "cells": [
  {
   "cell_type": "code",
   "execution_count": 63,
   "metadata": {},
   "outputs": [],
   "source": [
    "import json\n",
    "import pandas as pd"
   ]
  },
  {
   "cell_type": "markdown",
   "metadata": {},
   "source": [
    "# Introduction of Class InData"
   ]
  },
  {
   "cell_type": "code",
   "execution_count": 64,
   "metadata": {},
   "outputs": [],
   "source": [
    "\n",
    "class InData:\n",
    "    \"\"\"\n",
    "    Class for input data, that allows for conversion into input to tables of DataBase, define the datastructure and operations over those tables\n",
    "    \n",
    "    Attributes\n",
    "    ----------\n",
    "    json : json.object\n",
    "        loaded json file with user's inpiut data\n",
    "    username : str\n",
    "        name of user to whom the data belongs\n",
    "    open : list of str\n",
    "        list of strings, containing [SQL - DateTime2(0)] formatted date of device's openings\n",
    "    switch : list of str\n",
    "        list of strings, containing [SQL - DateTime2(0)] formatted date of cigarettes' package switching\n",
    "    \"\"\"\n",
    "    def __init__(self, JSON):\n",
    "         \"\"\"\n",
    "        Parameters\n",
    "        ----------\n",
    "        JSON : str to JSON file\n",
    "            Allow of opening and reading from the JSON file containing user input data\n",
    "        \"\"\"\n",
    "         self.json = pd.read_json(JSON)\n",
    "         self.username = \"\"\n",
    "         self.open = []\n",
    "         self.switch = []\n",
    "\n",
    "    def adddate(self, att, date):\n",
    "         \"\"\"\n",
    "        Converts date-time into SQL ready format and append it to an attribute specified by boolean variable att \n",
    "\n",
    "        Parameters\n",
    "        ----------\n",
    "        type : boolean\n",
    "            value of 0 - type is \"opening\"\n",
    "            value of 1 - type is \"switch\"\n",
    "        date : str\n",
    "            Contains date_time information in a format of the JSON file\n",
    "        \"\"\"\n",
    "        # Reading information from \"date\" string\n",
    "         try:\n",
    "             hour = int(date[0:2])\n",
    "             minute = int(date[3:5])\n",
    "             second = int(date[6:8])\n",
    "             day = int(date[9:11])\n",
    "             month = int(date[12:14])\n",
    "             year = int(date[15:])\n",
    "        #\n",
    "             dateSQL = str(year) + \"-\" + str(month) + \"-\" + str(day) + \" \" + str(hour) + \":\" + str(minute) + \":\" + str(second)\n",
    "         except:\n",
    "             print(\"Error occured: wrong datetime\")\n",
    "             raise SystemExit\n",
    "        # Appending\n",
    "         try:\n",
    "             if att == 0:\n",
    "                self.open.append(dateSQL)\n",
    "             elif att == 1:\n",
    "                self.switch.append(dateSQL)\n",
    "         except:\n",
    "             print(\"An error occured while writing date of choosen type\")\n",
    "             raise SystemExit\n",
    "    \n",
    "    def extract(self):\n",
    "         \"\"\"\n",
    "        Extract information from JSON: username, dates of device opening and package switching from json into self.open and self.switch.\n",
    "        Decodes the datetime format of input into datetime format of Data, using adddate() function\n",
    "        \"\"\"\n",
    "        # Retriving username, with error handling implemented\n",
    "         try:\n",
    "            inv_usrn = None\n",
    "            for i in self.json[\"username\"]:\n",
    "                try:\n",
    "                    self.username = i\n",
    "                    if i != self.json[\"username\"][1]:\n",
    "                        inv_usrn = 1\n",
    "                        break\n",
    "                except:\n",
    "                    print(\"An error with username occured\")\n",
    "                    raise SystemExit\n",
    "         except NameError:\n",
    "             print(\"NameError\")\n",
    "             raise SystemExit\n",
    "         finally:\n",
    "             if inv_usrn is not None:\n",
    "                 self.username = None\n",
    "                 print (\"Error occured - username is not consistent\")\n",
    "                 raise SystemExit\n",
    "        # Retriving opening and switching information from JSON file, returning error when data type is other than \"open\" or \"switch\"\n",
    "         try:\n",
    "             for i in self.json['operations']:\n",
    "                if i[\"type\"] == \"open\":\n",
    "                  self.adddate( 0, i[\"date\"])\n",
    "                elif i[\"type\"] == \"switch\":\n",
    "                  self.adddate( 1, i[\"date\"])\n",
    "         except:\n",
    "             print(\"An error has occured during date extraction\")\n",
    "             raise SystemExit"
   ]
  },
  {
   "cell_type": "markdown",
   "metadata": {},
   "source": [
    "## Test of correct input data"
   ]
  },
  {
   "cell_type": "code",
   "execution_count": 67,
   "metadata": {},
   "outputs": [
    {
     "name": "stdout",
     "output_type": "stream",
     "text": [
      "DataFrame of json:\n",
      "     username                                         operations\n",
      "0  Test_user  {'type': 'switch', 'date': '22:10:12_25/10/2023'}\n",
      "1  Test_user    {'type': 'open', 'date': '08:10:12_26/10/2023'}\n",
      "2  Test_user    {'type': 'open', 'date': '12:10:12_26/10/2023'}\n",
      "3  Test_user    {'type': 'open', 'date': '14:10:12_26/10/2023'}\n",
      "4  Test_user    {'type': 'open', 'date': '16:10:12_26/10/2023'}\n",
      "5  Test_user    {'type': 'open', 'date': '18:10:12_26/10/2023'}\n",
      "6  Test_user    {'type': 'open', 'date': '22:10:12_26/10/2023'}\n",
      "Username:\n",
      " Test_user\n",
      "Opening dates:\n",
      " ['2023-10-26 8:10:12', '2023-10-26 12:10:12', '2023-10-26 14:10:12', '2023-10-26 16:10:12', '2023-10-26 18:10:12', '2023-10-26 22:10:12']\n",
      "Switching dates:\n",
      " ['2023-10-25 22:10:12']\n",
      "<__main__.InData object at 0x000001ACE37A3A00>\n"
     ]
    }
   ],
   "source": [
    "# Loading test data \"indata.json\" into object of tested class - x [of type InData]\n",
    "x = InData(\"indata.json\")\n",
    "print(\"DataFrame of json:\\n\", x.json)\n",
    "x.extract()\n",
    "print(\"Username:\\n\", x.username)\n",
    "print(\"Opening dates:\\n\", x.open)\n",
    "print(\"Switching dates:\\n\", x.switch)\n",
    "print(x)"
   ]
  },
  {
   "cell_type": "markdown",
   "metadata": {},
   "source": [
    "## Test of incorrect input data:"
   ]
  },
  {
   "cell_type": "markdown",
   "metadata": {},
   "source": [
    "#### Faulty data with non-consistent username added"
   ]
  },
  {
   "cell_type": "code",
   "execution_count": 66,
   "metadata": {},
   "outputs": [
    {
     "name": "stdout",
     "output_type": "stream",
     "text": [
      "DF of json:\n",
      "      username                                        operations\n",
      "0   Test_user  {'type': 'switch', 'date': '22:10:1_25/10/2023'}\n",
      "1   Test_user    {'type': 'ope', 'date': '08:10:12_26/10/2023'}\n",
      "2  wrong_user   {'type': 'open', 'date': '12:10:12_26/10/2023'}\n",
      "3   Test_user   {'type': 'open', 'date': '14:10:12_26/10/2023'}\n",
      "4   Test_user   {'type': 'open', 'date': '16:10:12_26/10/2023'}\n",
      "5   Test_user   {'type': 'open', 'date': '18:10:12_26/10/2023'}\n",
      "6   Test_user    {'type': 'opn', 'date': '22:10:12_26/10/2023'}\n",
      "Error occured - username is not consistent\n"
     ]
    },
    {
     "ename": "SystemExit",
     "evalue": "",
     "output_type": "error",
     "traceback": [
      "An exception has occurred, use %tb to see the full traceback.\n",
      "\u001b[1;31mSystemExit\u001b[0m\n"
     ]
    },
    {
     "name": "stderr",
     "output_type": "stream",
     "text": [
      "C:\\Users\\01122464\\AppData\\Roaming\\Python\\Python39\\site-packages\\IPython\\core\\interactiveshell.py:3516: UserWarning: To exit: use 'exit', 'quit', or Ctrl-D.\n",
      "  warn(\"To exit: use 'exit', 'quit', or Ctrl-D.\", stacklevel=1)\n"
     ]
    }
   ],
   "source": [
    "err = InData(\"err_indata.json\")\n",
    "# Adding error in username\n",
    "err.json[\"username\"][2] = \"wrong_user\"\n",
    "print(\"DF of json:\\n\", err.json)\n",
    "err.extract()\n",
    "print(\"Username:\\n\", err.username)\n",
    "print(\"Opening dates:\\n\", err.open)\n",
    "print(\"Switching dates:\\n\", err.switch)"
   ]
  },
  {
   "cell_type": "markdown",
   "metadata": {},
   "source": [
    "#### Remove wrong username"
   ]
  },
  {
   "cell_type": "code",
   "execution_count": null,
   "metadata": {},
   "outputs": [
    {
     "name": "stdout",
     "output_type": "stream",
     "text": [
      "DF of json:\n",
      "     username                                        operations\n",
      "0  Test_user  {'type': 'switch', 'date': '22:10:1_25/10/2023'}\n",
      "1  Test_user    {'type': 'ope', 'date': '08:10:12_26/10/2023'}\n",
      "2  Test_user   {'type': 'open', 'date': '12:10:12_26/10/2023'}\n",
      "3  Test_user   {'type': 'open', 'date': '14:10:12_26/10/2023'}\n",
      "4  Test_user   {'type': 'open', 'date': '16:10:12_26/10/2023'}\n",
      "5  Test_user   {'type': 'open', 'date': '18:10:12_26/10/2023'}\n",
      "6  Test_user    {'type': 'opn', 'date': '22:10:12_26/10/2023'}\n",
      "Error occured: wrong datetime\n",
      "An error has occured during date extraction\n"
     ]
    },
    {
     "ename": "AttributeError",
     "evalue": "'tuple' object has no attribute 'tb_frame'",
     "output_type": "error",
     "traceback": [
      "\u001b[1;31m---------------------------------------------------------------------------\u001b[0m",
      "\u001b[1;31mValueError\u001b[0m                                Traceback (most recent call last)",
      "\u001b[1;32mc:\\Users\\01122464\\SmokeOut\\tests\\indata_pro_ops.ipynb Cell 9\u001b[0m line \u001b[0;36m4\n\u001b[0;32m     <a href='vscode-notebook-cell:/c%3A/Users/01122464/SmokeOut/tests/indata_pro_ops.ipynb#X10sZmlsZQ%3D%3D?line=42'>43</a>\u001b[0m minute \u001b[39m=\u001b[39m \u001b[39mint\u001b[39m(date[\u001b[39m3\u001b[39m:\u001b[39m5\u001b[39m])\n\u001b[1;32m---> <a href='vscode-notebook-cell:/c%3A/Users/01122464/SmokeOut/tests/indata_pro_ops.ipynb#X10sZmlsZQ%3D%3D?line=43'>44</a>\u001b[0m second \u001b[39m=\u001b[39m \u001b[39mint\u001b[39;49m(date[\u001b[39m6\u001b[39;49m:\u001b[39m8\u001b[39;49m])\n\u001b[0;32m     <a href='vscode-notebook-cell:/c%3A/Users/01122464/SmokeOut/tests/indata_pro_ops.ipynb#X10sZmlsZQ%3D%3D?line=44'>45</a>\u001b[0m day \u001b[39m=\u001b[39m \u001b[39mint\u001b[39m(date[\u001b[39m9\u001b[39m:\u001b[39m11\u001b[39m])\n",
      "\u001b[1;31mValueError\u001b[0m: invalid literal for int() with base 10: '1_'",
      "\nDuring handling of the above exception, another exception occurred:\n",
      "\u001b[1;31mSystemExit\u001b[0m                                Traceback (most recent call last)",
      "\u001b[1;32mc:\\Users\\01122464\\SmokeOut\\tests\\indata_pro_ops.ipynb Cell 9\u001b[0m line \u001b[0;36m9\n\u001b[0;32m     <a href='vscode-notebook-cell:/c%3A/Users/01122464/SmokeOut/tests/indata_pro_ops.ipynb#X10sZmlsZQ%3D%3D?line=92'>93</a>\u001b[0m        \u001b[39melif\u001b[39;00m i[\u001b[39m\"\u001b[39m\u001b[39mtype\u001b[39m\u001b[39m\"\u001b[39m] \u001b[39m==\u001b[39m \u001b[39m\"\u001b[39m\u001b[39mswitch\u001b[39m\u001b[39m\"\u001b[39m:\n\u001b[1;32m---> <a href='vscode-notebook-cell:/c%3A/Users/01122464/SmokeOut/tests/indata_pro_ops.ipynb#X10sZmlsZQ%3D%3D?line=93'>94</a>\u001b[0m          \u001b[39mself\u001b[39;49m\u001b[39m.\u001b[39;49madddate( \u001b[39m1\u001b[39;49m, i[\u001b[39m\"\u001b[39;49m\u001b[39mdate\u001b[39;49m\u001b[39m\"\u001b[39;49m])\n\u001b[0;32m     <a href='vscode-notebook-cell:/c%3A/Users/01122464/SmokeOut/tests/indata_pro_ops.ipynb#X10sZmlsZQ%3D%3D?line=94'>95</a>\u001b[0m \u001b[39mexcept\u001b[39;00m:\n",
      "\u001b[1;32mc:\\Users\\01122464\\SmokeOut\\tests\\indata_pro_ops.ipynb Cell 9\u001b[0m line \u001b[0;36m5\n\u001b[0;32m     <a href='vscode-notebook-cell:/c%3A/Users/01122464/SmokeOut/tests/indata_pro_ops.ipynb#X10sZmlsZQ%3D%3D?line=50'>51</a>\u001b[0m      \u001b[39mprint\u001b[39m(\u001b[39m\"\u001b[39m\u001b[39mError occured: wrong datetime\u001b[39m\u001b[39m\"\u001b[39m)\n\u001b[1;32m---> <a href='vscode-notebook-cell:/c%3A/Users/01122464/SmokeOut/tests/indata_pro_ops.ipynb#X10sZmlsZQ%3D%3D?line=51'>52</a>\u001b[0m      \u001b[39mraise\u001b[39;00m \u001b[39mSystemExit\u001b[39;00m\n\u001b[0;32m     <a href='vscode-notebook-cell:/c%3A/Users/01122464/SmokeOut/tests/indata_pro_ops.ipynb#X10sZmlsZQ%3D%3D?line=52'>53</a>\u001b[0m \u001b[39m# Appending\u001b[39;00m\n",
      "\u001b[1;31mSystemExit\u001b[0m: ",
      "\nDuring handling of the above exception, another exception occurred:\n",
      "\u001b[1;31mSystemExit\u001b[0m                                Traceback (most recent call last)",
      "    \u001b[1;31m[... skipping hidden 1 frame]\u001b[0m\n",
      "\u001b[1;32mc:\\Users\\01122464\\SmokeOut\\tests\\indata_pro_ops.ipynb Cell 9\u001b[0m line \u001b[0;36m3\n\u001b[0;32m      <a href='vscode-notebook-cell:/c%3A/Users/01122464/SmokeOut/tests/indata_pro_ops.ipynb#X10sZmlsZQ%3D%3D?line=1'>2</a>\u001b[0m \u001b[39mprint\u001b[39m(\u001b[39m\"\u001b[39m\u001b[39mDF of json:\u001b[39m\u001b[39m\\n\u001b[39;00m\u001b[39m\"\u001b[39m, err\u001b[39m.\u001b[39mjson)\n\u001b[1;32m----> <a href='vscode-notebook-cell:/c%3A/Users/01122464/SmokeOut/tests/indata_pro_ops.ipynb#X10sZmlsZQ%3D%3D?line=2'>3</a>\u001b[0m err\u001b[39m.\u001b[39;49mextract()\n\u001b[0;32m      <a href='vscode-notebook-cell:/c%3A/Users/01122464/SmokeOut/tests/indata_pro_ops.ipynb#X10sZmlsZQ%3D%3D?line=3'>4</a>\u001b[0m \u001b[39mprint\u001b[39m(\u001b[39m\"\u001b[39m\u001b[39mUsername:\u001b[39m\u001b[39m\\n\u001b[39;00m\u001b[39m\"\u001b[39m, err\u001b[39m.\u001b[39musername)\n",
      "\u001b[1;32mc:\\Users\\01122464\\SmokeOut\\tests\\indata_pro_ops.ipynb Cell 9\u001b[0m line \u001b[0;36m9\n\u001b[0;32m     <a href='vscode-notebook-cell:/c%3A/Users/01122464/SmokeOut/tests/indata_pro_ops.ipynb#X10sZmlsZQ%3D%3D?line=95'>96</a>\u001b[0m \u001b[39mprint\u001b[39m(\u001b[39m\"\u001b[39m\u001b[39mAn error has occured during date extraction\u001b[39m\u001b[39m\"\u001b[39m)\n\u001b[1;32m---> <a href='vscode-notebook-cell:/c%3A/Users/01122464/SmokeOut/tests/indata_pro_ops.ipynb#X10sZmlsZQ%3D%3D?line=96'>97</a>\u001b[0m \u001b[39mraise\u001b[39;00m \u001b[39mSystemExit\u001b[39;00m\n",
      "\u001b[1;31mSystemExit\u001b[0m: ",
      "\nDuring handling of the above exception, another exception occurred:\n",
      "\u001b[1;31mAttributeError\u001b[0m                            Traceback (most recent call last)",
      "    \u001b[1;31m[... skipping hidden 1 frame]\u001b[0m\n",
      "File \u001b[1;32m~\\AppData\\Roaming\\Python\\Python39\\site-packages\\IPython\\core\\interactiveshell.py:2095\u001b[0m, in \u001b[0;36mInteractiveShell.showtraceback\u001b[1;34m(self, exc_tuple, filename, tb_offset, exception_only, running_compiled_code)\u001b[0m\n\u001b[0;32m   2092\u001b[0m \u001b[39mif\u001b[39;00m exception_only:\n\u001b[0;32m   2093\u001b[0m     stb \u001b[39m=\u001b[39m [\u001b[39m'\u001b[39m\u001b[39mAn exception has occurred, use \u001b[39m\u001b[39m%\u001b[39m\u001b[39mtb to see \u001b[39m\u001b[39m'\u001b[39m\n\u001b[0;32m   2094\u001b[0m            \u001b[39m'\u001b[39m\u001b[39mthe full traceback.\u001b[39m\u001b[39m\\n\u001b[39;00m\u001b[39m'\u001b[39m]\n\u001b[1;32m-> 2095\u001b[0m     stb\u001b[39m.\u001b[39mextend(\u001b[39mself\u001b[39;49m\u001b[39m.\u001b[39;49mInteractiveTB\u001b[39m.\u001b[39;49mget_exception_only(etype,\n\u001b[0;32m   2096\u001b[0m                                                      value))\n\u001b[0;32m   2097\u001b[0m \u001b[39melse\u001b[39;00m:\n\u001b[0;32m   2098\u001b[0m     \u001b[39mtry\u001b[39;00m:\n\u001b[0;32m   2099\u001b[0m         \u001b[39m# Exception classes can customise their traceback - we\u001b[39;00m\n\u001b[0;32m   2100\u001b[0m         \u001b[39m# use this in IPython.parallel for exceptions occurring\u001b[39;00m\n\u001b[0;32m   2101\u001b[0m         \u001b[39m# in the engines. This should return a list of strings.\u001b[39;00m\n",
      "File \u001b[1;32m~\\AppData\\Roaming\\Python\\Python39\\site-packages\\IPython\\core\\ultratb.py:710\u001b[0m, in \u001b[0;36mListTB.get_exception_only\u001b[1;34m(self, etype, value)\u001b[0m\n\u001b[0;32m    702\u001b[0m \u001b[39mdef\u001b[39;00m \u001b[39mget_exception_only\u001b[39m(\u001b[39mself\u001b[39m, etype, value):\n\u001b[0;32m    703\u001b[0m \u001b[39m    \u001b[39m\u001b[39m\"\"\"Only print the exception type and message, without a traceback.\u001b[39;00m\n\u001b[0;32m    704\u001b[0m \n\u001b[0;32m    705\u001b[0m \u001b[39m    Parameters\u001b[39;00m\n\u001b[1;32m   (...)\u001b[0m\n\u001b[0;32m    708\u001b[0m \u001b[39m    value : exception value\u001b[39;00m\n\u001b[0;32m    709\u001b[0m \u001b[39m    \"\"\"\u001b[39;00m\n\u001b[1;32m--> 710\u001b[0m     \u001b[39mreturn\u001b[39;00m ListTB\u001b[39m.\u001b[39;49mstructured_traceback(\u001b[39mself\u001b[39;49m, etype, value)\n",
      "File \u001b[1;32m~\\AppData\\Roaming\\Python\\Python39\\site-packages\\IPython\\core\\ultratb.py:568\u001b[0m, in \u001b[0;36mListTB.structured_traceback\u001b[1;34m(self, etype, evalue, etb, tb_offset, context)\u001b[0m\n\u001b[0;32m    565\u001b[0m     chained_exc_ids\u001b[39m.\u001b[39madd(\u001b[39mid\u001b[39m(exception[\u001b[39m1\u001b[39m]))\n\u001b[0;32m    566\u001b[0m     chained_exceptions_tb_offset \u001b[39m=\u001b[39m \u001b[39m0\u001b[39m\n\u001b[0;32m    567\u001b[0m     out_list \u001b[39m=\u001b[39m (\n\u001b[1;32m--> 568\u001b[0m         \u001b[39mself\u001b[39;49m\u001b[39m.\u001b[39;49mstructured_traceback(\n\u001b[0;32m    569\u001b[0m             etype,\n\u001b[0;32m    570\u001b[0m             evalue,\n\u001b[0;32m    571\u001b[0m             (etb, chained_exc_ids),  \u001b[39m# type: ignore\u001b[39;49;00m\n\u001b[0;32m    572\u001b[0m             chained_exceptions_tb_offset,\n\u001b[0;32m    573\u001b[0m             context,\n\u001b[0;32m    574\u001b[0m         )\n\u001b[0;32m    575\u001b[0m         \u001b[39m+\u001b[39m chained_exception_message\n\u001b[0;32m    576\u001b[0m         \u001b[39m+\u001b[39m out_list)\n\u001b[0;32m    578\u001b[0m \u001b[39mreturn\u001b[39;00m out_list\n",
      "File \u001b[1;32m~\\AppData\\Roaming\\Python\\Python39\\site-packages\\IPython\\core\\ultratb.py:1428\u001b[0m, in \u001b[0;36mAutoFormattedTB.structured_traceback\u001b[1;34m(self, etype, evalue, etb, tb_offset, number_of_lines_of_context)\u001b[0m\n\u001b[0;32m   1426\u001b[0m \u001b[39melse\u001b[39;00m:\n\u001b[0;32m   1427\u001b[0m     \u001b[39mself\u001b[39m\u001b[39m.\u001b[39mtb \u001b[39m=\u001b[39m etb\n\u001b[1;32m-> 1428\u001b[0m \u001b[39mreturn\u001b[39;00m FormattedTB\u001b[39m.\u001b[39;49mstructured_traceback(\n\u001b[0;32m   1429\u001b[0m     \u001b[39mself\u001b[39;49m, etype, evalue, etb, tb_offset, number_of_lines_of_context\n\u001b[0;32m   1430\u001b[0m )\n",
      "File \u001b[1;32m~\\AppData\\Roaming\\Python\\Python39\\site-packages\\IPython\\core\\ultratb.py:1319\u001b[0m, in \u001b[0;36mFormattedTB.structured_traceback\u001b[1;34m(self, etype, value, tb, tb_offset, number_of_lines_of_context)\u001b[0m\n\u001b[0;32m   1316\u001b[0m mode \u001b[39m=\u001b[39m \u001b[39mself\u001b[39m\u001b[39m.\u001b[39mmode\n\u001b[0;32m   1317\u001b[0m \u001b[39mif\u001b[39;00m mode \u001b[39min\u001b[39;00m \u001b[39mself\u001b[39m\u001b[39m.\u001b[39mverbose_modes:\n\u001b[0;32m   1318\u001b[0m     \u001b[39m# Verbose modes need a full traceback\u001b[39;00m\n\u001b[1;32m-> 1319\u001b[0m     \u001b[39mreturn\u001b[39;00m VerboseTB\u001b[39m.\u001b[39;49mstructured_traceback(\n\u001b[0;32m   1320\u001b[0m         \u001b[39mself\u001b[39;49m, etype, value, tb, tb_offset, number_of_lines_of_context\n\u001b[0;32m   1321\u001b[0m     )\n\u001b[0;32m   1322\u001b[0m \u001b[39melif\u001b[39;00m mode \u001b[39m==\u001b[39m \u001b[39m'\u001b[39m\u001b[39mMinimal\u001b[39m\u001b[39m'\u001b[39m:\n\u001b[0;32m   1323\u001b[0m     \u001b[39mreturn\u001b[39;00m ListTB\u001b[39m.\u001b[39mget_exception_only(\u001b[39mself\u001b[39m, etype, value)\n",
      "File \u001b[1;32m~\\AppData\\Roaming\\Python\\Python39\\site-packages\\IPython\\core\\ultratb.py:1172\u001b[0m, in \u001b[0;36mVerboseTB.structured_traceback\u001b[1;34m(self, etype, evalue, etb, tb_offset, number_of_lines_of_context)\u001b[0m\n\u001b[0;32m   1163\u001b[0m \u001b[39mdef\u001b[39;00m \u001b[39mstructured_traceback\u001b[39m(\n\u001b[0;32m   1164\u001b[0m     \u001b[39mself\u001b[39m,\n\u001b[0;32m   1165\u001b[0m     etype: \u001b[39mtype\u001b[39m,\n\u001b[1;32m   (...)\u001b[0m\n\u001b[0;32m   1169\u001b[0m     number_of_lines_of_context: \u001b[39mint\u001b[39m \u001b[39m=\u001b[39m \u001b[39m5\u001b[39m,\n\u001b[0;32m   1170\u001b[0m ):\n\u001b[0;32m   1171\u001b[0m \u001b[39m    \u001b[39m\u001b[39m\"\"\"Return a nice text document describing the traceback.\"\"\"\u001b[39;00m\n\u001b[1;32m-> 1172\u001b[0m     formatted_exception \u001b[39m=\u001b[39m \u001b[39mself\u001b[39;49m\u001b[39m.\u001b[39;49mformat_exception_as_a_whole(etype, evalue, etb, number_of_lines_of_context,\n\u001b[0;32m   1173\u001b[0m                                                            tb_offset)\n\u001b[0;32m   1175\u001b[0m     colors \u001b[39m=\u001b[39m \u001b[39mself\u001b[39m\u001b[39m.\u001b[39mColors  \u001b[39m# just a shorthand + quicker name lookup\u001b[39;00m\n\u001b[0;32m   1176\u001b[0m     colorsnormal \u001b[39m=\u001b[39m colors\u001b[39m.\u001b[39mNormal  \u001b[39m# used a lot\u001b[39;00m\n",
      "File \u001b[1;32m~\\AppData\\Roaming\\Python\\Python39\\site-packages\\IPython\\core\\ultratb.py:1062\u001b[0m, in \u001b[0;36mVerboseTB.format_exception_as_a_whole\u001b[1;34m(self, etype, evalue, etb, number_of_lines_of_context, tb_offset)\u001b[0m\n\u001b[0;32m   1059\u001b[0m \u001b[39massert\u001b[39;00m \u001b[39misinstance\u001b[39m(tb_offset, \u001b[39mint\u001b[39m)\n\u001b[0;32m   1060\u001b[0m head \u001b[39m=\u001b[39m \u001b[39mself\u001b[39m\u001b[39m.\u001b[39mprepare_header(\u001b[39mstr\u001b[39m(etype), \u001b[39mself\u001b[39m\u001b[39m.\u001b[39mlong_header)\n\u001b[0;32m   1061\u001b[0m records \u001b[39m=\u001b[39m (\n\u001b[1;32m-> 1062\u001b[0m     \u001b[39mself\u001b[39;49m\u001b[39m.\u001b[39;49mget_records(etb, number_of_lines_of_context, tb_offset) \u001b[39mif\u001b[39;00m etb \u001b[39melse\u001b[39;00m []\n\u001b[0;32m   1063\u001b[0m )\n\u001b[0;32m   1065\u001b[0m frames \u001b[39m=\u001b[39m []\n\u001b[0;32m   1066\u001b[0m skipped \u001b[39m=\u001b[39m \u001b[39m0\u001b[39m\n",
      "File \u001b[1;32m~\\AppData\\Roaming\\Python\\Python39\\site-packages\\IPython\\core\\ultratb.py:1130\u001b[0m, in \u001b[0;36mVerboseTB.get_records\u001b[1;34m(self, etb, number_of_lines_of_context, tb_offset)\u001b[0m\n\u001b[0;32m   1128\u001b[0m \u001b[39mwhile\u001b[39;00m cf \u001b[39mis\u001b[39;00m \u001b[39mnot\u001b[39;00m \u001b[39mNone\u001b[39;00m:\n\u001b[0;32m   1129\u001b[0m     \u001b[39mtry\u001b[39;00m:\n\u001b[1;32m-> 1130\u001b[0m         mod \u001b[39m=\u001b[39m inspect\u001b[39m.\u001b[39mgetmodule(cf\u001b[39m.\u001b[39;49mtb_frame)\n\u001b[0;32m   1131\u001b[0m         \u001b[39mif\u001b[39;00m mod \u001b[39mis\u001b[39;00m \u001b[39mnot\u001b[39;00m \u001b[39mNone\u001b[39;00m:\n\u001b[0;32m   1132\u001b[0m             mod_name \u001b[39m=\u001b[39m mod\u001b[39m.\u001b[39m\u001b[39m__name__\u001b[39m\n",
      "\u001b[1;31mAttributeError\u001b[0m: 'tuple' object has no attribute 'tb_frame'"
     ]
    }
   ],
   "source": [
    "err = InData(\"err_indata.json\")\n",
    "print(\"DF of json:\\n\", err.json)\n",
    "err.extract()\n",
    "print(\"Username:\\n\", err.username)\n",
    "print(\"Opening dates:\\n\", err.open)\n",
    "print(\"Switching dates:\\n\", err.switch)"
   ]
  },
  {
   "cell_type": "markdown",
   "metadata": {},
   "source": [
    "#### Correct types of operations"
   ]
  },
  {
   "cell_type": "code",
   "execution_count": null,
   "metadata": {},
   "outputs": [
    {
     "name": "stdout",
     "output_type": "stream",
     "text": [
      "DF of json:\n",
      "     username                                        operations\n",
      "0  Test_user  {'type': 'switch', 'date': '22:10:1_25/10/2023'}\n",
      "1  Test_user    {'type': 'ope', 'date': '08:10:12_26/10/2023'}\n",
      "2  Test_user   {'type': 'open', 'date': '12:10:12_26/10/2023'}\n",
      "3  Test_user   {'type': 'open', 'date': '14:10:12_26/10/2023'}\n",
      "4  Test_user   {'type': 'open', 'date': '16:10:12_26/10/2023'}\n",
      "5  Test_user   {'type': 'open', 'date': '18:10:12_26/10/2023'}\n",
      "6  Test_user    {'type': 'opn', 'date': '22:10:12_26/10/2023'}\n",
      "DF of json:\n",
      "     username                                        operations\n",
      "0  Test_user  {'type': 'switch', 'date': '22:10:1_25/10/2023'}\n",
      "1  Test_user   {'type': 'open', 'date': '08:10:12_26/10/2023'}\n",
      "2  Test_user   {'type': 'open', 'date': '12:10:12_26/10/2023'}\n",
      "3  Test_user   {'type': 'open', 'date': '14:10:12_26/10/2023'}\n",
      "4  Test_user   {'type': 'open', 'date': '16:10:12_26/10/2023'}\n",
      "5  Test_user   {'type': 'open', 'date': '18:10:12_26/10/2023'}\n",
      "6  Test_user   {'type': 'open', 'date': '22:10:12_26/10/2023'}\n",
      "Error occured: wrong datetime\n",
      "An error has occured during date extraction\n"
     ]
    },
    {
     "ename": "AttributeError",
     "evalue": "'tuple' object has no attribute 'tb_frame'",
     "output_type": "error",
     "traceback": [
      "\u001b[1;31m---------------------------------------------------------------------------\u001b[0m",
      "\u001b[1;31mValueError\u001b[0m                                Traceback (most recent call last)",
      "\u001b[1;32mc:\\Users\\01122464\\SmokeOut\\tests\\indata_pro_ops.ipynb Cell 11\u001b[0m line \u001b[0;36m4\n\u001b[0;32m     <a href='vscode-notebook-cell:/c%3A/Users/01122464/SmokeOut/tests/indata_pro_ops.ipynb#X13sZmlsZQ%3D%3D?line=42'>43</a>\u001b[0m minute \u001b[39m=\u001b[39m \u001b[39mint\u001b[39m(date[\u001b[39m3\u001b[39m:\u001b[39m5\u001b[39m])\n\u001b[1;32m---> <a href='vscode-notebook-cell:/c%3A/Users/01122464/SmokeOut/tests/indata_pro_ops.ipynb#X13sZmlsZQ%3D%3D?line=43'>44</a>\u001b[0m second \u001b[39m=\u001b[39m \u001b[39mint\u001b[39;49m(date[\u001b[39m6\u001b[39;49m:\u001b[39m8\u001b[39;49m])\n\u001b[0;32m     <a href='vscode-notebook-cell:/c%3A/Users/01122464/SmokeOut/tests/indata_pro_ops.ipynb#X13sZmlsZQ%3D%3D?line=44'>45</a>\u001b[0m day \u001b[39m=\u001b[39m \u001b[39mint\u001b[39m(date[\u001b[39m9\u001b[39m:\u001b[39m11\u001b[39m])\n",
      "\u001b[1;31mValueError\u001b[0m: invalid literal for int() with base 10: '1_'",
      "\nDuring handling of the above exception, another exception occurred:\n",
      "\u001b[1;31mSystemExit\u001b[0m                                Traceback (most recent call last)",
      "\u001b[1;32mc:\\Users\\01122464\\SmokeOut\\tests\\indata_pro_ops.ipynb Cell 11\u001b[0m line \u001b[0;36m9\n\u001b[0;32m     <a href='vscode-notebook-cell:/c%3A/Users/01122464/SmokeOut/tests/indata_pro_ops.ipynb#X13sZmlsZQ%3D%3D?line=92'>93</a>\u001b[0m        \u001b[39melif\u001b[39;00m i[\u001b[39m\"\u001b[39m\u001b[39mtype\u001b[39m\u001b[39m\"\u001b[39m] \u001b[39m==\u001b[39m \u001b[39m\"\u001b[39m\u001b[39mswitch\u001b[39m\u001b[39m\"\u001b[39m:\n\u001b[1;32m---> <a href='vscode-notebook-cell:/c%3A/Users/01122464/SmokeOut/tests/indata_pro_ops.ipynb#X13sZmlsZQ%3D%3D?line=93'>94</a>\u001b[0m          \u001b[39mself\u001b[39;49m\u001b[39m.\u001b[39;49madddate( \u001b[39m1\u001b[39;49m, i[\u001b[39m\"\u001b[39;49m\u001b[39mdate\u001b[39;49m\u001b[39m\"\u001b[39;49m])\n\u001b[0;32m     <a href='vscode-notebook-cell:/c%3A/Users/01122464/SmokeOut/tests/indata_pro_ops.ipynb#X13sZmlsZQ%3D%3D?line=94'>95</a>\u001b[0m \u001b[39mexcept\u001b[39;00m:\n",
      "\u001b[1;32mc:\\Users\\01122464\\SmokeOut\\tests\\indata_pro_ops.ipynb Cell 11\u001b[0m line \u001b[0;36m5\n\u001b[0;32m     <a href='vscode-notebook-cell:/c%3A/Users/01122464/SmokeOut/tests/indata_pro_ops.ipynb#X13sZmlsZQ%3D%3D?line=50'>51</a>\u001b[0m      \u001b[39mprint\u001b[39m(\u001b[39m\"\u001b[39m\u001b[39mError occured: wrong datetime\u001b[39m\u001b[39m\"\u001b[39m)\n\u001b[1;32m---> <a href='vscode-notebook-cell:/c%3A/Users/01122464/SmokeOut/tests/indata_pro_ops.ipynb#X13sZmlsZQ%3D%3D?line=51'>52</a>\u001b[0m      \u001b[39mraise\u001b[39;00m \u001b[39mSystemExit\u001b[39;00m\n\u001b[0;32m     <a href='vscode-notebook-cell:/c%3A/Users/01122464/SmokeOut/tests/indata_pro_ops.ipynb#X13sZmlsZQ%3D%3D?line=52'>53</a>\u001b[0m \u001b[39m# Appending\u001b[39;00m\n",
      "\u001b[1;31mSystemExit\u001b[0m: ",
      "\nDuring handling of the above exception, another exception occurred:\n",
      "\u001b[1;31mSystemExit\u001b[0m                                Traceback (most recent call last)",
      "    \u001b[1;31m[... skipping hidden 1 frame]\u001b[0m\n",
      "\u001b[1;32mc:\\Users\\01122464\\SmokeOut\\tests\\indata_pro_ops.ipynb Cell 11\u001b[0m line \u001b[0;36m1\n\u001b[0;32m     <a href='vscode-notebook-cell:/c%3A/Users/01122464/SmokeOut/tests/indata_pro_ops.ipynb#X13sZmlsZQ%3D%3D?line=12'>13</a>\u001b[0m \u001b[39mprint\u001b[39m(\u001b[39m\"\u001b[39m\u001b[39mDF of json:\u001b[39m\u001b[39m\\n\u001b[39;00m\u001b[39m\"\u001b[39m, err\u001b[39m.\u001b[39mjson)\n\u001b[1;32m---> <a href='vscode-notebook-cell:/c%3A/Users/01122464/SmokeOut/tests/indata_pro_ops.ipynb#X13sZmlsZQ%3D%3D?line=13'>14</a>\u001b[0m err\u001b[39m.\u001b[39;49mextract()\n\u001b[0;32m     <a href='vscode-notebook-cell:/c%3A/Users/01122464/SmokeOut/tests/indata_pro_ops.ipynb#X13sZmlsZQ%3D%3D?line=14'>15</a>\u001b[0m \u001b[39mprint\u001b[39m(\u001b[39m\"\u001b[39m\u001b[39mUsername:\u001b[39m\u001b[39m\\n\u001b[39;00m\u001b[39m\"\u001b[39m, err\u001b[39m.\u001b[39musername)\n",
      "\u001b[1;32mc:\\Users\\01122464\\SmokeOut\\tests\\indata_pro_ops.ipynb Cell 11\u001b[0m line \u001b[0;36m9\n\u001b[0;32m     <a href='vscode-notebook-cell:/c%3A/Users/01122464/SmokeOut/tests/indata_pro_ops.ipynb#X13sZmlsZQ%3D%3D?line=95'>96</a>\u001b[0m \u001b[39mprint\u001b[39m(\u001b[39m\"\u001b[39m\u001b[39mAn error has occured during date extraction\u001b[39m\u001b[39m\"\u001b[39m)\n\u001b[1;32m---> <a href='vscode-notebook-cell:/c%3A/Users/01122464/SmokeOut/tests/indata_pro_ops.ipynb#X13sZmlsZQ%3D%3D?line=96'>97</a>\u001b[0m \u001b[39mraise\u001b[39;00m \u001b[39mSystemExit\u001b[39;00m\n",
      "\u001b[1;31mSystemExit\u001b[0m: ",
      "\nDuring handling of the above exception, another exception occurred:\n",
      "\u001b[1;31mAttributeError\u001b[0m                            Traceback (most recent call last)",
      "    \u001b[1;31m[... skipping hidden 1 frame]\u001b[0m\n",
      "File \u001b[1;32m~\\AppData\\Roaming\\Python\\Python39\\site-packages\\IPython\\core\\interactiveshell.py:2095\u001b[0m, in \u001b[0;36mInteractiveShell.showtraceback\u001b[1;34m(self, exc_tuple, filename, tb_offset, exception_only, running_compiled_code)\u001b[0m\n\u001b[0;32m   2092\u001b[0m \u001b[39mif\u001b[39;00m exception_only:\n\u001b[0;32m   2093\u001b[0m     stb \u001b[39m=\u001b[39m [\u001b[39m'\u001b[39m\u001b[39mAn exception has occurred, use \u001b[39m\u001b[39m%\u001b[39m\u001b[39mtb to see \u001b[39m\u001b[39m'\u001b[39m\n\u001b[0;32m   2094\u001b[0m            \u001b[39m'\u001b[39m\u001b[39mthe full traceback.\u001b[39m\u001b[39m\\n\u001b[39;00m\u001b[39m'\u001b[39m]\n\u001b[1;32m-> 2095\u001b[0m     stb\u001b[39m.\u001b[39mextend(\u001b[39mself\u001b[39;49m\u001b[39m.\u001b[39;49mInteractiveTB\u001b[39m.\u001b[39;49mget_exception_only(etype,\n\u001b[0;32m   2096\u001b[0m                                                      value))\n\u001b[0;32m   2097\u001b[0m \u001b[39melse\u001b[39;00m:\n\u001b[0;32m   2098\u001b[0m     \u001b[39mtry\u001b[39;00m:\n\u001b[0;32m   2099\u001b[0m         \u001b[39m# Exception classes can customise their traceback - we\u001b[39;00m\n\u001b[0;32m   2100\u001b[0m         \u001b[39m# use this in IPython.parallel for exceptions occurring\u001b[39;00m\n\u001b[0;32m   2101\u001b[0m         \u001b[39m# in the engines. This should return a list of strings.\u001b[39;00m\n",
      "File \u001b[1;32m~\\AppData\\Roaming\\Python\\Python39\\site-packages\\IPython\\core\\ultratb.py:710\u001b[0m, in \u001b[0;36mListTB.get_exception_only\u001b[1;34m(self, etype, value)\u001b[0m\n\u001b[0;32m    702\u001b[0m \u001b[39mdef\u001b[39;00m \u001b[39mget_exception_only\u001b[39m(\u001b[39mself\u001b[39m, etype, value):\n\u001b[0;32m    703\u001b[0m \u001b[39m    \u001b[39m\u001b[39m\"\"\"Only print the exception type and message, without a traceback.\u001b[39;00m\n\u001b[0;32m    704\u001b[0m \n\u001b[0;32m    705\u001b[0m \u001b[39m    Parameters\u001b[39;00m\n\u001b[1;32m   (...)\u001b[0m\n\u001b[0;32m    708\u001b[0m \u001b[39m    value : exception value\u001b[39;00m\n\u001b[0;32m    709\u001b[0m \u001b[39m    \"\"\"\u001b[39;00m\n\u001b[1;32m--> 710\u001b[0m     \u001b[39mreturn\u001b[39;00m ListTB\u001b[39m.\u001b[39;49mstructured_traceback(\u001b[39mself\u001b[39;49m, etype, value)\n",
      "File \u001b[1;32m~\\AppData\\Roaming\\Python\\Python39\\site-packages\\IPython\\core\\ultratb.py:568\u001b[0m, in \u001b[0;36mListTB.structured_traceback\u001b[1;34m(self, etype, evalue, etb, tb_offset, context)\u001b[0m\n\u001b[0;32m    565\u001b[0m     chained_exc_ids\u001b[39m.\u001b[39madd(\u001b[39mid\u001b[39m(exception[\u001b[39m1\u001b[39m]))\n\u001b[0;32m    566\u001b[0m     chained_exceptions_tb_offset \u001b[39m=\u001b[39m \u001b[39m0\u001b[39m\n\u001b[0;32m    567\u001b[0m     out_list \u001b[39m=\u001b[39m (\n\u001b[1;32m--> 568\u001b[0m         \u001b[39mself\u001b[39;49m\u001b[39m.\u001b[39;49mstructured_traceback(\n\u001b[0;32m    569\u001b[0m             etype,\n\u001b[0;32m    570\u001b[0m             evalue,\n\u001b[0;32m    571\u001b[0m             (etb, chained_exc_ids),  \u001b[39m# type: ignore\u001b[39;49;00m\n\u001b[0;32m    572\u001b[0m             chained_exceptions_tb_offset,\n\u001b[0;32m    573\u001b[0m             context,\n\u001b[0;32m    574\u001b[0m         )\n\u001b[0;32m    575\u001b[0m         \u001b[39m+\u001b[39m chained_exception_message\n\u001b[0;32m    576\u001b[0m         \u001b[39m+\u001b[39m out_list)\n\u001b[0;32m    578\u001b[0m \u001b[39mreturn\u001b[39;00m out_list\n",
      "File \u001b[1;32m~\\AppData\\Roaming\\Python\\Python39\\site-packages\\IPython\\core\\ultratb.py:1428\u001b[0m, in \u001b[0;36mAutoFormattedTB.structured_traceback\u001b[1;34m(self, etype, evalue, etb, tb_offset, number_of_lines_of_context)\u001b[0m\n\u001b[0;32m   1426\u001b[0m \u001b[39melse\u001b[39;00m:\n\u001b[0;32m   1427\u001b[0m     \u001b[39mself\u001b[39m\u001b[39m.\u001b[39mtb \u001b[39m=\u001b[39m etb\n\u001b[1;32m-> 1428\u001b[0m \u001b[39mreturn\u001b[39;00m FormattedTB\u001b[39m.\u001b[39;49mstructured_traceback(\n\u001b[0;32m   1429\u001b[0m     \u001b[39mself\u001b[39;49m, etype, evalue, etb, tb_offset, number_of_lines_of_context\n\u001b[0;32m   1430\u001b[0m )\n",
      "File \u001b[1;32m~\\AppData\\Roaming\\Python\\Python39\\site-packages\\IPython\\core\\ultratb.py:1319\u001b[0m, in \u001b[0;36mFormattedTB.structured_traceback\u001b[1;34m(self, etype, value, tb, tb_offset, number_of_lines_of_context)\u001b[0m\n\u001b[0;32m   1316\u001b[0m mode \u001b[39m=\u001b[39m \u001b[39mself\u001b[39m\u001b[39m.\u001b[39mmode\n\u001b[0;32m   1317\u001b[0m \u001b[39mif\u001b[39;00m mode \u001b[39min\u001b[39;00m \u001b[39mself\u001b[39m\u001b[39m.\u001b[39mverbose_modes:\n\u001b[0;32m   1318\u001b[0m     \u001b[39m# Verbose modes need a full traceback\u001b[39;00m\n\u001b[1;32m-> 1319\u001b[0m     \u001b[39mreturn\u001b[39;00m VerboseTB\u001b[39m.\u001b[39;49mstructured_traceback(\n\u001b[0;32m   1320\u001b[0m         \u001b[39mself\u001b[39;49m, etype, value, tb, tb_offset, number_of_lines_of_context\n\u001b[0;32m   1321\u001b[0m     )\n\u001b[0;32m   1322\u001b[0m \u001b[39melif\u001b[39;00m mode \u001b[39m==\u001b[39m \u001b[39m'\u001b[39m\u001b[39mMinimal\u001b[39m\u001b[39m'\u001b[39m:\n\u001b[0;32m   1323\u001b[0m     \u001b[39mreturn\u001b[39;00m ListTB\u001b[39m.\u001b[39mget_exception_only(\u001b[39mself\u001b[39m, etype, value)\n",
      "File \u001b[1;32m~\\AppData\\Roaming\\Python\\Python39\\site-packages\\IPython\\core\\ultratb.py:1172\u001b[0m, in \u001b[0;36mVerboseTB.structured_traceback\u001b[1;34m(self, etype, evalue, etb, tb_offset, number_of_lines_of_context)\u001b[0m\n\u001b[0;32m   1163\u001b[0m \u001b[39mdef\u001b[39;00m \u001b[39mstructured_traceback\u001b[39m(\n\u001b[0;32m   1164\u001b[0m     \u001b[39mself\u001b[39m,\n\u001b[0;32m   1165\u001b[0m     etype: \u001b[39mtype\u001b[39m,\n\u001b[1;32m   (...)\u001b[0m\n\u001b[0;32m   1169\u001b[0m     number_of_lines_of_context: \u001b[39mint\u001b[39m \u001b[39m=\u001b[39m \u001b[39m5\u001b[39m,\n\u001b[0;32m   1170\u001b[0m ):\n\u001b[0;32m   1171\u001b[0m \u001b[39m    \u001b[39m\u001b[39m\"\"\"Return a nice text document describing the traceback.\"\"\"\u001b[39;00m\n\u001b[1;32m-> 1172\u001b[0m     formatted_exception \u001b[39m=\u001b[39m \u001b[39mself\u001b[39;49m\u001b[39m.\u001b[39;49mformat_exception_as_a_whole(etype, evalue, etb, number_of_lines_of_context,\n\u001b[0;32m   1173\u001b[0m                                                            tb_offset)\n\u001b[0;32m   1175\u001b[0m     colors \u001b[39m=\u001b[39m \u001b[39mself\u001b[39m\u001b[39m.\u001b[39mColors  \u001b[39m# just a shorthand + quicker name lookup\u001b[39;00m\n\u001b[0;32m   1176\u001b[0m     colorsnormal \u001b[39m=\u001b[39m colors\u001b[39m.\u001b[39mNormal  \u001b[39m# used a lot\u001b[39;00m\n",
      "File \u001b[1;32m~\\AppData\\Roaming\\Python\\Python39\\site-packages\\IPython\\core\\ultratb.py:1062\u001b[0m, in \u001b[0;36mVerboseTB.format_exception_as_a_whole\u001b[1;34m(self, etype, evalue, etb, number_of_lines_of_context, tb_offset)\u001b[0m\n\u001b[0;32m   1059\u001b[0m \u001b[39massert\u001b[39;00m \u001b[39misinstance\u001b[39m(tb_offset, \u001b[39mint\u001b[39m)\n\u001b[0;32m   1060\u001b[0m head \u001b[39m=\u001b[39m \u001b[39mself\u001b[39m\u001b[39m.\u001b[39mprepare_header(\u001b[39mstr\u001b[39m(etype), \u001b[39mself\u001b[39m\u001b[39m.\u001b[39mlong_header)\n\u001b[0;32m   1061\u001b[0m records \u001b[39m=\u001b[39m (\n\u001b[1;32m-> 1062\u001b[0m     \u001b[39mself\u001b[39;49m\u001b[39m.\u001b[39;49mget_records(etb, number_of_lines_of_context, tb_offset) \u001b[39mif\u001b[39;00m etb \u001b[39melse\u001b[39;00m []\n\u001b[0;32m   1063\u001b[0m )\n\u001b[0;32m   1065\u001b[0m frames \u001b[39m=\u001b[39m []\n\u001b[0;32m   1066\u001b[0m skipped \u001b[39m=\u001b[39m \u001b[39m0\u001b[39m\n",
      "File \u001b[1;32m~\\AppData\\Roaming\\Python\\Python39\\site-packages\\IPython\\core\\ultratb.py:1130\u001b[0m, in \u001b[0;36mVerboseTB.get_records\u001b[1;34m(self, etb, number_of_lines_of_context, tb_offset)\u001b[0m\n\u001b[0;32m   1128\u001b[0m \u001b[39mwhile\u001b[39;00m cf \u001b[39mis\u001b[39;00m \u001b[39mnot\u001b[39;00m \u001b[39mNone\u001b[39;00m:\n\u001b[0;32m   1129\u001b[0m     \u001b[39mtry\u001b[39;00m:\n\u001b[1;32m-> 1130\u001b[0m         mod \u001b[39m=\u001b[39m inspect\u001b[39m.\u001b[39mgetmodule(cf\u001b[39m.\u001b[39;49mtb_frame)\n\u001b[0;32m   1131\u001b[0m         \u001b[39mif\u001b[39;00m mod \u001b[39mis\u001b[39;00m \u001b[39mnot\u001b[39;00m \u001b[39mNone\u001b[39;00m:\n\u001b[0;32m   1132\u001b[0m             mod_name \u001b[39m=\u001b[39m mod\u001b[39m.\u001b[39m\u001b[39m__name__\u001b[39m\n",
      "\u001b[1;31mAttributeError\u001b[0m: 'tuple' object has no attribute 'tb_frame'"
     ]
    }
   ],
   "source": [
    "err = InData(\"err_indata.json\")\n",
    "print(\"DF of json:\\n\", err.json)\n",
    "# quick fix of err_indata - just for test, won't work with a lot of other errors\n",
    "for i in err.json['operations']:\n",
    "    if i[\"type\"] != \"open\" and i[\"type\"] != \"switch\":\n",
    "        for c in i[\"type\"]:\n",
    "            if c == \"o\" or \"p\" or \"n\":\n",
    "                i[\"type\"] = \"open\"\n",
    "            else:\n",
    "                i[\"type\"] = \"switch\"\n",
    "            break\n",
    "# corre\n",
    "print(\"DF of json:\\n\", err.json)\n",
    "err.extract()\n",
    "print(\"Username:\\n\", err.username)\n",
    "print(\"Opening dates:\\n\", err.open)\n",
    "print(\"Switching dates:\\n\", err.switch)"
   ]
  }
 ],
 "metadata": {
  "kernelspec": {
   "display_name": "Python 3",
   "language": "python",
   "name": "python3"
  },
  "language_info": {
   "codemirror_mode": {
    "name": "ipython",
    "version": 3
   },
   "file_extension": ".py",
   "mimetype": "text/x-python",
   "name": "python",
   "nbconvert_exporter": "python",
   "pygments_lexer": "ipython3",
   "version": "3.9.5"
  }
 },
 "nbformat": 4,
 "nbformat_minor": 2
}
