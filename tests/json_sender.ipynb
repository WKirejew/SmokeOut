{
 "cells": [
  {
   "cell_type": "code",
   "execution_count": 1,
   "metadata": {},
   "outputs": [],
   "source": [
    "# Setup:\n",
    "import os\n",
    "import json\n",
    "from azure.storage.blob import BlobServiceClient, BlobClient, ContainerClient"
   ]
  },
  {
   "cell_type": "markdown",
   "metadata": {},
   "source": [
    "# Function for uploading json files into AFS Blob"
   ]
  },
  {
   "cell_type": "code",
   "execution_count": null,
   "metadata": {},
   "outputs": [],
   "source": [
    "def json_upload(jso):\n",
    "     \"\"\"\n",
    "        Uploads the file into the server, checking beforehand for existence of other files related \n",
    "        by username, found in the file and giving ID based on the date of opening\n",
    "\n",
    "        Parameters\n",
    "        ----------\n",
    "        jso : string containing path to a .json file\n",
    "            An object created from opening of a .json file beeing up for upload\n",
    "    \"\"\"\n",
    "    # Retrieve the connection string for use with the application. The storage\n",
    "    # connection string is stored in an environment variable on the machine\n",
    "    # running the application called AZURE_STORAGE_CONNECTION_STRING. If the environment variable is\n",
    "    # created after the application is launched in a console or with Visual Studio,\n",
    "    # the shell or application needs to be closed and reloaded to take the\n",
    "    # environment variable into account.\n",
    "     connect_str = os.getenv('AZURE_STORAGE_CONNECTION_STRING')\n",
    "    # Create the BlobServiceClient object\n",
    "     blob_service_client = BlobServiceClient.from_connection_string(connect_str)\n",
    "    # Retriving username and first datetime from the file\n",
    "     with open(jso) as file:\n",
    "          dict = json.load(file)\n",
    "          username = dict[\"username\"]\n",
    "          dt = dict[\"operations\"][0][\"date\"]\n",
    "          dt = str.replace(dt, \"/\", \"-\")\n",
    "          name = \"{}/{}.json\".format(username, dt)\n",
    "     with open(jso) as jsf:\n",
    "          data = jsf.read()\n",
    "    # Download a list of files in the 'jsons' container\n",
    "     container_client = blob_service_client.get_container_client(container='jsons')\n",
    "     bl = container_client.list_blobs()\n",
    "     filenames = []\n",
    "     for b in bl:\n",
    "         filenames.append(b.name)\n",
    "    # Checking if the file already exists:\n",
    "     if name in filenames:\n",
    "          print(\"File{} already exists\".format(name))\n",
    "     else:\n",
    "          blob_client = blob_service_client.get_blob_client(container='jsons', blob=name)\n",
    "          blob_client.upload_blob(data, blob_type=\"BlockBlob\")"
   ]
  },
  {
   "cell_type": "markdown",
   "metadata": {},
   "source": []
  }
 ],
 "metadata": {
  "kernelspec": {
   "display_name": "Python 3",
   "language": "python",
   "name": "python3"
  },
  "language_info": {
   "codemirror_mode": {
    "name": "ipython",
    "version": 3
   },
   "file_extension": ".py",
   "mimetype": "text/x-python",
   "name": "python",
   "nbconvert_exporter": "python",
   "pygments_lexer": "ipython3",
   "version": "3.9.5"
  }
 },
 "nbformat": 4,
 "nbformat_minor": 2
}
