{
 "cells": [
  {
   "cell_type": "markdown",
   "metadata": {},
   "source": [
    "Setup and loading InData class from a file"
   ]
  },
  {
   "cell_type": "code",
   "execution_count": 28,
   "metadata": {},
   "outputs": [],
   "source": [
    "from indata_pro_ops import InData\n",
    "import pyodbc\n",
    "import pandas as pd"
   ]
  },
  {
   "cell_type": "markdown",
   "metadata": {},
   "source": [
    "## Accesing testing .json file (from server) and preprocessing it"
   ]
  },
  {
   "cell_type": "code",
   "execution_count": 23,
   "metadata": {},
   "outputs": [
    {
     "name": "stdout",
     "output_type": "stream",
     "text": [
      "Tester_manual\n",
      "2023-10-26 12:10:13\n"
     ]
    }
   ],
   "source": [
    "# Temporary for testing purposes, preload test1.json\n",
    "test1 = InData(\"test1.json\")\n",
    "test1.extract()\n",
    "print(test1.username)\n",
    "print(test1.open[1])"
   ]
  },
  {
   "cell_type": "markdown",
   "metadata": {},
   "source": [
    "## Establishing connectrion with SQL server (MySQL localhost for testing purpose)"
   ]
  },
  {
   "cell_type": "code",
   "execution_count": 25,
   "metadata": {},
   "outputs": [
    {
     "name": "stdout",
     "output_type": "stream",
     "text": [
      "INSERT INTO `smokeout`.`user` (`username`) VALUES ('Tester_manual');\n"
     ]
    }
   ],
   "source": [
    "# Establishing connection, using Devart ODBC Driver (Devart ODBC Driver for MySQL)\n",
    "conn = pyodbc.connect('Driver={Devart ODBC Driver for MySQL};'\n",
    "                      'User ID=root;'\n",
    "                      'Password=legolas112;'\n",
    "                      'Server=127.0.0.1;'\n",
    "                      'Database=smokeout;'\n",
    "                      'Port=3306;'\n",
    "                      'Trusted_Connection=yes;')\n",
    "# To perform any SQL QUERYs in pyodbc cursor() is needed\n",
    "cursor = conn.cursor()\n",
    "# Building QUERY strings:\n",
    "# -------------------------------------------\n",
    "#               WARNING!!!\n",
    "# In MySQL syntax is different than in other SQL applications so for testing\n",
    "# and final implementation there is need for different coding\n",
    "# -------------------------------------------\n",
    "\n",
    "# Inserting username into `user` table\n",
    "username_insert = \"INSERT INTO `smokeout`.`user` (`username`) VALUES ('\"+test1.username+\"');\"\n",
    "print(username_insert)\n",
    "cursor.execute(username_insert)\n",
    "\n",
    "# Commiting changes\n",
    "conn.commit()"
   ]
  },
  {
   "cell_type": "code",
   "execution_count": 30,
   "metadata": {},
   "outputs": [
    {
     "name": "stderr",
     "output_type": "stream",
     "text": [
      "C:\\Users\\01122464\\AppData\\Local\\Temp\\ipykernel_6532\\619025968.py:2: UserWarning: pandas only supports SQLAlchemy connectable (engine/connection) or database string URI or sqlite3 DBAPI2 connection. Other DBAPI2 objects are not tested. Please consider using SQLAlchemy.\n",
      "  UserID = pd.read_sql(\"SELECT UserID FROM user\\nWHERE username=\"+test1.username, conn)\n"
     ]
    },
    {
     "ename": "DatabaseError",
     "evalue": "Execution failed on sql 'SELECT UserID FROM user\nWHERE username=Tester_manual': ('HY000', \"[HY000] [Devart][ODBC][MySQL]#42S22Unknown column 'Tester_manual' in 'where clause' (0) (SQLExecDirectW)\")",
     "output_type": "error",
     "traceback": [
      "\u001b[1;31m---------------------------------------------------------------------------\u001b[0m",
      "\u001b[1;31mError\u001b[0m                                     Traceback (most recent call last)",
      "File \u001b[1;32mc:\\Users\\01122464\\AppData\\Local\\Programs\\Python\\Python39\\lib\\site-packages\\pandas\\io\\sql.py:2262\u001b[0m, in \u001b[0;36mSQLiteDatabase.execute\u001b[1;34m(self, sql, params)\u001b[0m\n\u001b[0;32m   2261\u001b[0m \u001b[39mtry\u001b[39;00m:\n\u001b[1;32m-> 2262\u001b[0m     cur\u001b[39m.\u001b[39;49mexecute(sql, \u001b[39m*\u001b[39;49margs)\n\u001b[0;32m   2263\u001b[0m     \u001b[39mreturn\u001b[39;00m cur\n",
      "\u001b[1;31mError\u001b[0m: ('HY000', \"[HY000] [Devart][ODBC][MySQL]#42S22Unknown column 'Tester_manual' in 'where clause' (0) (SQLExecDirectW)\")",
      "\nThe above exception was the direct cause of the following exception:\n",
      "\u001b[1;31mDatabaseError\u001b[0m                             Traceback (most recent call last)",
      "\u001b[1;32mc:\\Users\\01122464\\SmokeOut\\tests\\populating_tables.ipynb Cell 7\u001b[0m line \u001b[0;36m2\n\u001b[0;32m      <a href='vscode-notebook-cell:/c%3A/Users/01122464/SmokeOut/tests/populating_tables.ipynb#W6sZmlsZQ%3D%3D?line=0'>1</a>\u001b[0m \u001b[39m# Getting UserID from username\u001b[39;00m\n\u001b[1;32m----> <a href='vscode-notebook-cell:/c%3A/Users/01122464/SmokeOut/tests/populating_tables.ipynb#W6sZmlsZQ%3D%3D?line=1'>2</a>\u001b[0m UserID \u001b[39m=\u001b[39m pd\u001b[39m.\u001b[39;49mread_sql(\u001b[39m\"\u001b[39;49m\u001b[39mSELECT UserID FROM user\u001b[39;49m\u001b[39m\\n\u001b[39;49;00m\u001b[39mWHERE username=\u001b[39;49m\u001b[39m\"\u001b[39;49m\u001b[39m+\u001b[39;49mtest1\u001b[39m.\u001b[39;49musername, conn)\n\u001b[0;32m      <a href='vscode-notebook-cell:/c%3A/Users/01122464/SmokeOut/tests/populating_tables.ipynb#W6sZmlsZQ%3D%3D?line=2'>3</a>\u001b[0m \u001b[39m# Inserting opening and switching times\u001b[39;00m\n\u001b[0;32m      <a href='vscode-notebook-cell:/c%3A/Users/01122464/SmokeOut/tests/populating_tables.ipynb#W6sZmlsZQ%3D%3D?line=3'>4</a>\u001b[0m \u001b[39mfor\u001b[39;00m i \u001b[39min\u001b[39;00m test1\u001b[39m.\u001b[39mswitch:\n",
      "File \u001b[1;32mc:\\Users\\01122464\\AppData\\Local\\Programs\\Python\\Python39\\lib\\site-packages\\pandas\\io\\sql.py:654\u001b[0m, in \u001b[0;36mread_sql\u001b[1;34m(sql, con, index_col, coerce_float, params, parse_dates, columns, chunksize, dtype_backend, dtype)\u001b[0m\n\u001b[0;32m    652\u001b[0m \u001b[39mwith\u001b[39;00m pandasSQL_builder(con) \u001b[39mas\u001b[39;00m pandas_sql:\n\u001b[0;32m    653\u001b[0m     \u001b[39mif\u001b[39;00m \u001b[39misinstance\u001b[39m(pandas_sql, SQLiteDatabase):\n\u001b[1;32m--> 654\u001b[0m         \u001b[39mreturn\u001b[39;00m pandas_sql\u001b[39m.\u001b[39;49mread_query(\n\u001b[0;32m    655\u001b[0m             sql,\n\u001b[0;32m    656\u001b[0m             index_col\u001b[39m=\u001b[39;49mindex_col,\n\u001b[0;32m    657\u001b[0m             params\u001b[39m=\u001b[39;49mparams,\n\u001b[0;32m    658\u001b[0m             coerce_float\u001b[39m=\u001b[39;49mcoerce_float,\n\u001b[0;32m    659\u001b[0m             parse_dates\u001b[39m=\u001b[39;49mparse_dates,\n\u001b[0;32m    660\u001b[0m             chunksize\u001b[39m=\u001b[39;49mchunksize,\n\u001b[0;32m    661\u001b[0m             dtype_backend\u001b[39m=\u001b[39;49mdtype_backend,\n\u001b[0;32m    662\u001b[0m             dtype\u001b[39m=\u001b[39;49mdtype,\n\u001b[0;32m    663\u001b[0m         )\n\u001b[0;32m    665\u001b[0m     \u001b[39mtry\u001b[39;00m:\n\u001b[0;32m    666\u001b[0m         _is_table_name \u001b[39m=\u001b[39m pandas_sql\u001b[39m.\u001b[39mhas_table(sql)\n",
      "File \u001b[1;32mc:\\Users\\01122464\\AppData\\Local\\Programs\\Python\\Python39\\lib\\site-packages\\pandas\\io\\sql.py:2326\u001b[0m, in \u001b[0;36mSQLiteDatabase.read_query\u001b[1;34m(self, sql, index_col, coerce_float, parse_dates, params, chunksize, dtype, dtype_backend)\u001b[0m\n\u001b[0;32m   2315\u001b[0m \u001b[39mdef\u001b[39;00m \u001b[39mread_query\u001b[39m(\n\u001b[0;32m   2316\u001b[0m     \u001b[39mself\u001b[39m,\n\u001b[0;32m   2317\u001b[0m     sql,\n\u001b[1;32m   (...)\u001b[0m\n\u001b[0;32m   2324\u001b[0m     dtype_backend: DtypeBackend \u001b[39m|\u001b[39m Literal[\u001b[39m\"\u001b[39m\u001b[39mnumpy\u001b[39m\u001b[39m\"\u001b[39m] \u001b[39m=\u001b[39m \u001b[39m\"\u001b[39m\u001b[39mnumpy\u001b[39m\u001b[39m\"\u001b[39m,\n\u001b[0;32m   2325\u001b[0m ) \u001b[39m-\u001b[39m\u001b[39m>\u001b[39m DataFrame \u001b[39m|\u001b[39m Iterator[DataFrame]:\n\u001b[1;32m-> 2326\u001b[0m     cursor \u001b[39m=\u001b[39m \u001b[39mself\u001b[39;49m\u001b[39m.\u001b[39;49mexecute(sql, params)\n\u001b[0;32m   2327\u001b[0m     columns \u001b[39m=\u001b[39m [col_desc[\u001b[39m0\u001b[39m] \u001b[39mfor\u001b[39;00m col_desc \u001b[39min\u001b[39;00m cursor\u001b[39m.\u001b[39mdescription]\n\u001b[0;32m   2329\u001b[0m     \u001b[39mif\u001b[39;00m chunksize \u001b[39mis\u001b[39;00m \u001b[39mnot\u001b[39;00m \u001b[39mNone\u001b[39;00m:\n",
      "File \u001b[1;32mc:\\Users\\01122464\\AppData\\Local\\Programs\\Python\\Python39\\lib\\site-packages\\pandas\\io\\sql.py:2274\u001b[0m, in \u001b[0;36mSQLiteDatabase.execute\u001b[1;34m(self, sql, params)\u001b[0m\n\u001b[0;32m   2271\u001b[0m     \u001b[39mraise\u001b[39;00m ex \u001b[39mfrom\u001b[39;00m \u001b[39minner_exc\u001b[39;00m\n\u001b[0;32m   2273\u001b[0m ex \u001b[39m=\u001b[39m DatabaseError(\u001b[39mf\u001b[39m\u001b[39m\"\u001b[39m\u001b[39mExecution failed on sql \u001b[39m\u001b[39m'\u001b[39m\u001b[39m{\u001b[39;00msql\u001b[39m}\u001b[39;00m\u001b[39m'\u001b[39m\u001b[39m: \u001b[39m\u001b[39m{\u001b[39;00mexc\u001b[39m}\u001b[39;00m\u001b[39m\"\u001b[39m)\n\u001b[1;32m-> 2274\u001b[0m \u001b[39mraise\u001b[39;00m ex \u001b[39mfrom\u001b[39;00m \u001b[39mexc\u001b[39;00m\n",
      "\u001b[1;31mDatabaseError\u001b[0m: Execution failed on sql 'SELECT UserID FROM user\nWHERE username=Tester_manual': ('HY000', \"[HY000] [Devart][ODBC][MySQL]#42S22Unknown column 'Tester_manual' in 'where clause' (0) (SQLExecDirectW)\")"
     ]
    }
   ],
   "source": [
    "# Getting UserID from username - https://stackoverflow.com/questions/64565904/how-to-use-pd-read-sql-using-mysql-connector\n",
    "UserID = pd.read_sql(\"SELECT UserID FROM user\\nWHERE username=\"+test1.username, conn)\n",
    "# Inserting opening and switching times\n",
    "for i in test1.switch:\n",
    "    switch_insert = \"INSERT INTO `smokeout`.`user` (`username`) VALUES ('\"+test1.username+\"');\""
   ]
  }
 ],
 "metadata": {
  "kernelspec": {
   "display_name": "Python 3",
   "language": "python",
   "name": "python3"
  },
  "language_info": {
   "codemirror_mode": {
    "name": "ipython",
    "version": 3
   },
   "file_extension": ".py",
   "mimetype": "text/x-python",
   "name": "python",
   "nbconvert_exporter": "python",
   "pygments_lexer": "ipython3",
   "version": "3.9.5"
  }
 },
 "nbformat": 4,
 "nbformat_minor": 2
}
