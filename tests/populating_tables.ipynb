{
 "cells": [
  {
   "cell_type": "markdown",
   "metadata": {},
   "source": [
    "Setup and loading InData class from a file"
   ]
  },
  {
   "cell_type": "code",
   "execution_count": 1,
   "metadata": {},
   "outputs": [],
   "source": [
    "from indata_pro_ops import InData\n",
    "import sqlalchemy as db\n",
    "from sqlalchemy import inspect\n",
    "import pandas as pd"
   ]
  },
  {
   "cell_type": "markdown",
   "metadata": {},
   "source": [
    "## Accesing testing .json file (from server) and preprocessing it"
   ]
  },
  {
   "cell_type": "code",
   "execution_count": 2,
   "metadata": {},
   "outputs": [
    {
     "name": "stdout",
     "output_type": "stream",
     "text": [
      "Tester_manual\n",
      "2023-10-26 12:10:13\n"
     ]
    }
   ],
   "source": [
    "# Temporary for testing purposes, preload test1.json\n",
    "test1 = InData(\"test1.json\")\n",
    "test1.extract()\n",
    "print(test1.username)\n",
    "print(test1.open[1])"
   ]
  },
  {
   "cell_type": "markdown",
   "metadata": {},
   "source": [
    "## Establishing connectrion with SQL server (MySQL localhost for testing purpose)"
   ]
  },
  {
   "cell_type": "markdown",
   "metadata": {},
   "source": [
    "using pyodbc library"
   ]
  },
  {
   "cell_type": "code",
   "execution_count": 3,
   "metadata": {},
   "outputs": [
    {
     "name": "stdout",
     "output_type": "stream",
     "text": [
      "INSERT INTO `smokeout`.`user` (`username`) VALUES ('Tester_manual');\n"
     ]
    },
    {
     "data": {
      "text/plain": [
       "<pyodbc.Cursor at 0x2869c6534b0>"
      ]
     },
     "execution_count": 3,
     "metadata": {},
     "output_type": "execute_result"
    }
   ],
   "source": [
    "import pyodbc\n",
    "# Establishing connection, using Devart ODBC Driver (Devart ODBC Driver for MySQL)\n",
    "conn = pyodbc.connect('Driver={Devart ODBC Driver for MySQL};'\n",
    "                      'User ID=root;'\n",
    "                      'Password=legolas112;'\n",
    "                      'Server=127.0.0.1;'\n",
    "                      'Database=smokeout;'\n",
    "                      'Port=3306;'\n",
    "                      'Trusted_Connection=yes;')\n",
    "# To perform any SQL QUERYs in pyodbc cursor() is needed\n",
    "cursor = conn.cursor()\n",
    "# Building QUERY strings:\n",
    "# -------------------------------------------\n",
    "#               WARNING!!!\n",
    "# In MySQL syntax is different than in other SQL applications so for testing\n",
    "# and final implementation there is need for different coding\n",
    "# -------------------------------------------\n",
    "\n",
    "# Inserting username into `user` table\n",
    "username_insert = \"INSERT INTO `smokeout`.`user` (`username`) VALUES ('\"+test1.username+\"');\"\n",
    "print(username_insert)\n",
    "cursor.execute(username_insert)\n",
    "\n",
    "# Commiting changes\n",
    "#conn.commit()"
   ]
  },
  {
   "cell_type": "markdown",
   "metadata": {},
   "source": [
    "using mysql.connector module"
   ]
  },
  {
   "cell_type": "code",
   "execution_count": 4,
   "metadata": {},
   "outputs": [
    {
     "name": "stderr",
     "output_type": "stream",
     "text": [
      "C:\\Users\\01122464\\AppData\\Local\\Temp\\ipykernel_808\\2619999710.py:7: UserWarning: pandas only supports SQLAlchemy connectable (engine/connection) or database string URI or sqlite3 DBAPI2 connection. Other DBAPI2 objects are not tested. Please consider using SQLAlchemy.\n",
      "  df = pd.read_sql('SELECT * FROM table_name', con=db_connection)\n"
     ]
    },
    {
     "ename": "DatabaseError",
     "evalue": "Execution failed on sql 'SELECT * FROM table_name': 1146 (42S02): Table 'smokeout.table_name' doesn't exist",
     "output_type": "error",
     "traceback": [
      "\u001b[1;31m---------------------------------------------------------------------------\u001b[0m",
      "\u001b[1;31mMySQLInterfaceError\u001b[0m                       Traceback (most recent call last)",
      "File \u001b[1;32mc:\\Users\\01122464\\AppData\\Local\\Programs\\Python\\Python39\\lib\\site-packages\\mysql\\connector\\connection_cext.py:639\u001b[0m, in \u001b[0;36mCMySQLConnection.cmd_query\u001b[1;34m(self, query, raw, buffered, raw_as_string)\u001b[0m\n\u001b[0;32m    638\u001b[0m         query \u001b[39m=\u001b[39m query\u001b[39m.\u001b[39mencode(\u001b[39m\"\u001b[39m\u001b[39mutf-8\u001b[39m\u001b[39m\"\u001b[39m)\n\u001b[1;32m--> 639\u001b[0m     \u001b[39mself\u001b[39;49m\u001b[39m.\u001b[39;49m_cmysql\u001b[39m.\u001b[39;49mquery(\n\u001b[0;32m    640\u001b[0m         query,\n\u001b[0;32m    641\u001b[0m         raw\u001b[39m=\u001b[39;49mraw,\n\u001b[0;32m    642\u001b[0m         buffered\u001b[39m=\u001b[39;49mbuffered,\n\u001b[0;32m    643\u001b[0m         raw_as_string\u001b[39m=\u001b[39;49mraw_as_string,\n\u001b[0;32m    644\u001b[0m         query_attrs\u001b[39m=\u001b[39;49m\u001b[39mself\u001b[39;49m\u001b[39m.\u001b[39;49mquery_attrs,\n\u001b[0;32m    645\u001b[0m     )\n\u001b[0;32m    646\u001b[0m \u001b[39mexcept\u001b[39;00m MySQLInterfaceError \u001b[39mas\u001b[39;00m err:\n",
      "\u001b[1;31mMySQLInterfaceError\u001b[0m: Table 'smokeout.table_name' doesn't exist",
      "\nThe above exception was the direct cause of the following exception:\n",
      "\u001b[1;31mProgrammingError\u001b[0m                          Traceback (most recent call last)",
      "File \u001b[1;32mc:\\Users\\01122464\\AppData\\Local\\Programs\\Python\\Python39\\lib\\site-packages\\pandas\\io\\sql.py:2262\u001b[0m, in \u001b[0;36mSQLiteDatabase.execute\u001b[1;34m(self, sql, params)\u001b[0m\n\u001b[0;32m   2261\u001b[0m \u001b[39mtry\u001b[39;00m:\n\u001b[1;32m-> 2262\u001b[0m     cur\u001b[39m.\u001b[39;49mexecute(sql, \u001b[39m*\u001b[39;49margs)\n\u001b[0;32m   2263\u001b[0m     \u001b[39mreturn\u001b[39;00m cur\n",
      "File \u001b[1;32mc:\\Users\\01122464\\AppData\\Local\\Programs\\Python\\Python39\\lib\\site-packages\\mysql\\connector\\cursor_cext.py:330\u001b[0m, in \u001b[0;36mCMySQLCursor.execute\u001b[1;34m(self, operation, params, multi)\u001b[0m\n\u001b[0;32m    329\u001b[0m \u001b[39mtry\u001b[39;00m:\n\u001b[1;32m--> 330\u001b[0m     result \u001b[39m=\u001b[39m \u001b[39mself\u001b[39;49m\u001b[39m.\u001b[39;49m_cnx\u001b[39m.\u001b[39;49mcmd_query(\n\u001b[0;32m    331\u001b[0m         stmt,\n\u001b[0;32m    332\u001b[0m         raw\u001b[39m=\u001b[39;49m\u001b[39mself\u001b[39;49m\u001b[39m.\u001b[39;49m_raw,\n\u001b[0;32m    333\u001b[0m         buffered\u001b[39m=\u001b[39;49m\u001b[39mself\u001b[39;49m\u001b[39m.\u001b[39;49m_buffered,\n\u001b[0;32m    334\u001b[0m         raw_as_string\u001b[39m=\u001b[39;49m\u001b[39mself\u001b[39;49m\u001b[39m.\u001b[39;49m_raw_as_string,\n\u001b[0;32m    335\u001b[0m     )\n\u001b[0;32m    336\u001b[0m \u001b[39mexcept\u001b[39;00m MySQLInterfaceError \u001b[39mas\u001b[39;00m err:\n",
      "File \u001b[1;32mc:\\Users\\01122464\\AppData\\Local\\Programs\\Python\\Python39\\lib\\site-packages\\mysql\\connector\\opentelemetry\\context_propagation.py:86\u001b[0m, in \u001b[0;36mwith_context_propagation.<locals>.wrapper\u001b[1;34m(cnx, *args, **kwargs)\u001b[0m\n\u001b[0;32m     85\u001b[0m \u001b[39mtry\u001b[39;00m:\n\u001b[1;32m---> 86\u001b[0m     result \u001b[39m=\u001b[39m method(cnx, \u001b[39m*\u001b[39margs, \u001b[39m*\u001b[39m\u001b[39m*\u001b[39mkwargs)\n\u001b[0;32m     87\u001b[0m \u001b[39mfinally\u001b[39;00m:\n",
      "File \u001b[1;32mc:\\Users\\01122464\\AppData\\Local\\Programs\\Python\\Python39\\lib\\site-packages\\mysql\\connector\\connection_cext.py:647\u001b[0m, in \u001b[0;36mCMySQLConnection.cmd_query\u001b[1;34m(self, query, raw, buffered, raw_as_string)\u001b[0m\n\u001b[0;32m    646\u001b[0m \u001b[39mexcept\u001b[39;00m MySQLInterfaceError \u001b[39mas\u001b[39;00m err:\n\u001b[1;32m--> 647\u001b[0m     \u001b[39mraise\u001b[39;00m get_mysql_exception(\n\u001b[0;32m    648\u001b[0m         err\u001b[39m.\u001b[39merrno, msg\u001b[39m=\u001b[39merr\u001b[39m.\u001b[39mmsg, sqlstate\u001b[39m=\u001b[39merr\u001b[39m.\u001b[39msqlstate\n\u001b[0;32m    649\u001b[0m     ) \u001b[39mfrom\u001b[39;00m \u001b[39merr\u001b[39;00m\n\u001b[0;32m    650\u001b[0m \u001b[39mexcept\u001b[39;00m \u001b[39mAttributeError\u001b[39;00m \u001b[39mas\u001b[39;00m err:\n",
      "\u001b[1;31mProgrammingError\u001b[0m: 1146 (42S02): Table 'smokeout.table_name' doesn't exist",
      "\nThe above exception was the direct cause of the following exception:\n",
      "\u001b[1;31mDatabaseError\u001b[0m                             Traceback (most recent call last)",
      "\u001b[1;32mc:\\Users\\01122464\\SmokeOut\\tests\\populating_tables.ipynb Cell 9\u001b[0m line \u001b[0;36m7\n\u001b[0;32m      <a href='vscode-notebook-cell:/c%3A/Users/01122464/SmokeOut/tests/populating_tables.ipynb#W6sZmlsZQ%3D%3D?line=0'>1</a>\u001b[0m \u001b[39mimport\u001b[39;00m \u001b[39mmysql\u001b[39;00m\u001b[39m.\u001b[39;00m\u001b[39mconnector\u001b[39;00m \u001b[39mas\u001b[39;00m \u001b[39msql\u001b[39;00m\n\u001b[0;32m      <a href='vscode-notebook-cell:/c%3A/Users/01122464/SmokeOut/tests/populating_tables.ipynb#W6sZmlsZQ%3D%3D?line=3'>4</a>\u001b[0m db_connection \u001b[39m=\u001b[39m sql\u001b[39m.\u001b[39mconnect(host\u001b[39m=\u001b[39m\u001b[39m'\u001b[39m\u001b[39m127.0.0.1\u001b[39m\u001b[39m'\u001b[39m, database\u001b[39m=\u001b[39m\u001b[39m'\u001b[39m\u001b[39msmokeout\u001b[39m\u001b[39m'\u001b[39m, \n\u001b[0;32m      <a href='vscode-notebook-cell:/c%3A/Users/01122464/SmokeOut/tests/populating_tables.ipynb#W6sZmlsZQ%3D%3D?line=4'>5</a>\u001b[0m user\u001b[39m=\u001b[39m\u001b[39m'\u001b[39m\u001b[39mroot\u001b[39m\u001b[39m'\u001b[39m, password\u001b[39m=\u001b[39m\u001b[39m'\u001b[39m\u001b[39mlegolas112\u001b[39m\u001b[39m'\u001b[39m)\n\u001b[1;32m----> <a href='vscode-notebook-cell:/c%3A/Users/01122464/SmokeOut/tests/populating_tables.ipynb#W6sZmlsZQ%3D%3D?line=6'>7</a>\u001b[0m df \u001b[39m=\u001b[39m pd\u001b[39m.\u001b[39;49mread_sql(\u001b[39m'\u001b[39;49m\u001b[39mSELECT * FROM table_name\u001b[39;49m\u001b[39m'\u001b[39;49m, con\u001b[39m=\u001b[39;49mdb_connection)\n",
      "File \u001b[1;32mc:\\Users\\01122464\\AppData\\Local\\Programs\\Python\\Python39\\lib\\site-packages\\pandas\\io\\sql.py:654\u001b[0m, in \u001b[0;36mread_sql\u001b[1;34m(sql, con, index_col, coerce_float, params, parse_dates, columns, chunksize, dtype_backend, dtype)\u001b[0m\n\u001b[0;32m    652\u001b[0m \u001b[39mwith\u001b[39;00m pandasSQL_builder(con) \u001b[39mas\u001b[39;00m pandas_sql:\n\u001b[0;32m    653\u001b[0m     \u001b[39mif\u001b[39;00m \u001b[39misinstance\u001b[39m(pandas_sql, SQLiteDatabase):\n\u001b[1;32m--> 654\u001b[0m         \u001b[39mreturn\u001b[39;00m pandas_sql\u001b[39m.\u001b[39;49mread_query(\n\u001b[0;32m    655\u001b[0m             sql,\n\u001b[0;32m    656\u001b[0m             index_col\u001b[39m=\u001b[39;49mindex_col,\n\u001b[0;32m    657\u001b[0m             params\u001b[39m=\u001b[39;49mparams,\n\u001b[0;32m    658\u001b[0m             coerce_float\u001b[39m=\u001b[39;49mcoerce_float,\n\u001b[0;32m    659\u001b[0m             parse_dates\u001b[39m=\u001b[39;49mparse_dates,\n\u001b[0;32m    660\u001b[0m             chunksize\u001b[39m=\u001b[39;49mchunksize,\n\u001b[0;32m    661\u001b[0m             dtype_backend\u001b[39m=\u001b[39;49mdtype_backend,\n\u001b[0;32m    662\u001b[0m             dtype\u001b[39m=\u001b[39;49mdtype,\n\u001b[0;32m    663\u001b[0m         )\n\u001b[0;32m    665\u001b[0m     \u001b[39mtry\u001b[39;00m:\n\u001b[0;32m    666\u001b[0m         _is_table_name \u001b[39m=\u001b[39m pandas_sql\u001b[39m.\u001b[39mhas_table(sql)\n",
      "File \u001b[1;32mc:\\Users\\01122464\\AppData\\Local\\Programs\\Python\\Python39\\lib\\site-packages\\pandas\\io\\sql.py:2326\u001b[0m, in \u001b[0;36mSQLiteDatabase.read_query\u001b[1;34m(self, sql, index_col, coerce_float, parse_dates, params, chunksize, dtype, dtype_backend)\u001b[0m\n\u001b[0;32m   2315\u001b[0m \u001b[39mdef\u001b[39;00m \u001b[39mread_query\u001b[39m(\n\u001b[0;32m   2316\u001b[0m     \u001b[39mself\u001b[39m,\n\u001b[0;32m   2317\u001b[0m     sql,\n\u001b[1;32m   (...)\u001b[0m\n\u001b[0;32m   2324\u001b[0m     dtype_backend: DtypeBackend \u001b[39m|\u001b[39m Literal[\u001b[39m\"\u001b[39m\u001b[39mnumpy\u001b[39m\u001b[39m\"\u001b[39m] \u001b[39m=\u001b[39m \u001b[39m\"\u001b[39m\u001b[39mnumpy\u001b[39m\u001b[39m\"\u001b[39m,\n\u001b[0;32m   2325\u001b[0m ) \u001b[39m-\u001b[39m\u001b[39m>\u001b[39m DataFrame \u001b[39m|\u001b[39m Iterator[DataFrame]:\n\u001b[1;32m-> 2326\u001b[0m     cursor \u001b[39m=\u001b[39m \u001b[39mself\u001b[39;49m\u001b[39m.\u001b[39;49mexecute(sql, params)\n\u001b[0;32m   2327\u001b[0m     columns \u001b[39m=\u001b[39m [col_desc[\u001b[39m0\u001b[39m] \u001b[39mfor\u001b[39;00m col_desc \u001b[39min\u001b[39;00m cursor\u001b[39m.\u001b[39mdescription]\n\u001b[0;32m   2329\u001b[0m     \u001b[39mif\u001b[39;00m chunksize \u001b[39mis\u001b[39;00m \u001b[39mnot\u001b[39;00m \u001b[39mNone\u001b[39;00m:\n",
      "File \u001b[1;32mc:\\Users\\01122464\\AppData\\Local\\Programs\\Python\\Python39\\lib\\site-packages\\pandas\\io\\sql.py:2274\u001b[0m, in \u001b[0;36mSQLiteDatabase.execute\u001b[1;34m(self, sql, params)\u001b[0m\n\u001b[0;32m   2271\u001b[0m     \u001b[39mraise\u001b[39;00m ex \u001b[39mfrom\u001b[39;00m \u001b[39minner_exc\u001b[39;00m\n\u001b[0;32m   2273\u001b[0m ex \u001b[39m=\u001b[39m DatabaseError(\u001b[39mf\u001b[39m\u001b[39m\"\u001b[39m\u001b[39mExecution failed on sql \u001b[39m\u001b[39m'\u001b[39m\u001b[39m{\u001b[39;00msql\u001b[39m}\u001b[39;00m\u001b[39m'\u001b[39m\u001b[39m: \u001b[39m\u001b[39m{\u001b[39;00mexc\u001b[39m}\u001b[39;00m\u001b[39m\"\u001b[39m)\n\u001b[1;32m-> 2274\u001b[0m \u001b[39mraise\u001b[39;00m ex \u001b[39mfrom\u001b[39;00m \u001b[39mexc\u001b[39;00m\n",
      "\u001b[1;31mDatabaseError\u001b[0m: Execution failed on sql 'SELECT * FROM table_name': 1146 (42S02): Table 'smokeout.table_name' doesn't exist"
     ]
    }
   ],
   "source": [
    "import mysql.connector as sql\n",
    "\n",
    "\n",
    "db_connection = sql.connect(host='127.0.0.1', database='smokeout', \n",
    "user='root', password='legolas112')\n",
    "\n",
    "df = pd.read_sql('SELECT * FROM table_name', con=db_connection)"
   ]
  },
  {
   "cell_type": "code",
   "execution_count": null,
   "metadata": {},
   "outputs": [],
   "source": [
    "# Getting UserID from username - https://stackoverflow.com/questions/64565904/how-to-use-pd-read-sql-using-mysql-connector\n",
    "UserID = pd.read_sql(\"SELECT UserID FROM use WHERE username=\"+test1.username, conn)\n",
    "# Inserting opening and switching times\n",
    "for i in test1.switch:\n",
    "    switch_insert = \"INSERT INTO `smokeout`.`user` (`username`) VALUES (`\"+test1.username+\"`);\""
   ]
  },
  {
   "cell_type": "markdown",
   "metadata": {},
   "source": [
    "SQLAlchemy approach"
   ]
  },
  {
   "cell_type": "code",
   "execution_count": 9,
   "metadata": {},
   "outputs": [
    {
     "name": "stdout",
     "output_type": "stream",
     "text": [
      "Table('user', MetaData(), Column('UserID', INTEGER(), table=<user>, primary_key=True, nullable=False), Column('username', VARCHAR(collation='utf8mb4_polish_ci', length=30), table=<user>), Column('StartTime', DATETIME(), table=<user>), Column('PlanID', INTEGER(), ForeignKey('usage_plans.PlanID'), table=<user>), schema=None)\n",
      "Table('inapp_user_data', MetaData(), Column('InDataID', INTEGER(), table=<inapp_user_data>, primary_key=True, nullable=False), Column('UserID', INTEGER(), ForeignKey('user.UserID'), table=<inapp_user_data>), Column('OpenPckg', DATETIME(), table=<inapp_user_data>), Column('SwitchPckg', DATETIME(), table=<inapp_user_data>), schema=None)\n",
      "['UserID', 'username', 'StartTime', 'PlanID']\n",
      "username already in database\n",
      "(7,)\n",
      "7\n",
      "['2023-10-26 08:09:12', '2023-10-26 12:10:13', '2023-10-26 14:11:15', '2023-10-26 16:10:32', '2023-10-26 18:13:52', '2023-10-26 22:17:10']\n",
      "[{'UserID': 7, 'OpenPckg': '2023-10-26 08:09:12'}, {'UserID': 7, 'OpenPckg': '2023-10-26 12:10:13'}, {'UserID': 7, 'OpenPckg': '2023-10-26 14:11:15'}, {'UserID': 7, 'OpenPckg': '2023-10-26 16:10:32'}, {'UserID': 7, 'OpenPckg': '2023-10-26 18:13:52'}, {'UserID': 7, 'OpenPckg': '2023-10-26 22:17:10'}]\n"
     ]
    }
   ],
   "source": [
    "# In SQLAlchemy (SQL module to work with pandas) to start connection\n",
    "# first step is to create engine:\n",
    "# -----------------------------------------------------------------\n",
    "# For that although, the connection string is needed\n",
    "conn_string = ''\n",
    "# To connect to local database we need: user, password, port and name of database:\n",
    "PWD = 'legolas112'\n",
    "USR = 'root'\n",
    "PORT = '3306'\n",
    "DB = 'smokeout'\n",
    "SQLALCHEMY_DATABASE_URI = 'mysql://{}:{}@localhost:{}/{}'.format(USR, PWD, PORT, DB)\n",
    "conn_string = SQLALCHEMY_DATABASE_URI\n",
    "\n",
    "engine = db.create_engine(conn_string)\n",
    "conn = engine.connect()\n",
    "\n",
    "# Extracting the metadata (needed to access the tables)\n",
    "metadata = db.MetaData()\n",
    "# Accessing respective tables: `user` and `inapp_user_data`\n",
    "user = db.Table('user', metadata, autoload=True, autoload_with=engine)\n",
    "inapp_user_data = db.Table('inapp_user_data', metadata, autoload=True, autoload_with=engine)\n",
    "# printing that + also just columns\n",
    "print(repr(metadata.tables['user']))\n",
    "print(repr(metadata.tables['inapp_user_data']))\n",
    "print(user.columns.keys())\n",
    "# =====================================================================\n",
    "# First operation is registering new user: in here that is covered as\n",
    "# checking if username is already in database and if it is not\n",
    "# inserting it in a new row\n",
    "chkusr = False if conn.execute(db.select(user).where(user.c.username == test1.username)) is not None else True\n",
    "try:\n",
    "    start = 1/chkusr\n",
    "    query = user.insert.values(username=test1.username)\n",
    "    exe = conn.execute(query)\n",
    "except:\n",
    "    print(\"username already in database\")\n",
    "\n",
    "# =====================================================================\n",
    "# Next operation is establishing UserID, with known username <from .json>\n",
    "# To do that, run query: SELECT column `UserID` FROM table `user` \n",
    "# WHERE column `username` is equal to test1.username\n",
    "sfwusr = conn.execute(db.select(user.c.UserID).where(user.c.username == test1.username))\n",
    "UserID = sfwusr.fetchone() # fetchone(), fetchmany(n), fetchall() - printing a number of lines one/n-many/all\n",
    "# The format of this data is not friendly:\n",
    "print(UserID)\n",
    "for i in UserID:\n",
    "    UserID = i\n",
    "    print(UserID)\n",
    "\n",
    "# =====================================================================\n",
    "# Finally, last operations are writing the inappuserdata into columns\n",
    "# of approperiate table - `inapp_user_data`:\n",
    "# Let's first create lists of values for INSERT queries\n",
    "swt_list = []\n",
    "for i in test1.switch:\n",
    "    swt_list.append({\"UserID\": UserID, \"SwitchPckg\": i})\n",
    "print(test1.open)\n",
    "\n",
    "opn_list = []\n",
    "for i in test1.open:\n",
    "    opn_list.append({\"UserID\": UserID, \"OpenPckg\": i})\n",
    "print(opn_list)\n",
    "# Now we can create INSERT query:\n",
    "query = inapp_user_data.insert()\n",
    "exe_swt = conn.execute(query, swt_list)\n",
    "exe_opn = conn.execute(query, opn_list)"
   ]
  },
  {
   "cell_type": "code",
   "execution_count": 12,
   "metadata": {},
   "outputs": [
    {
     "name": "stdout",
     "output_type": "stream",
     "text": [
      "switching time already in database\n",
      "opening time already in database\n",
      "opening time already in database\n",
      "opening time already in database\n",
      "opening time already in database\n",
      "opening time already in database\n",
      "opening time already in database\n"
     ]
    }
   ],
   "source": [
    "# It's all nice, but it would be nice to first check if those inputs are not already in the Table:\n",
    "swt_list = []\n",
    "for i in test1.switch:\n",
    "    try:\n",
    "        chk_swt = False if conn.execute(db.select(inapp_user_data).where(inapp_user_data.c.SwitchPckg == i)) is not None else True\n",
    "        start = 1/chk_swt\n",
    "        swt_list.append({\"UserID\": UserID, \"SwitchPckg\": i})\n",
    "    except:\n",
    "        print(\"switching time already in database\")\n",
    "\n",
    "opn_list = []\n",
    "for i in test1.open:\n",
    "    try:\n",
    "        chk_opn = False if conn.execute(db.select(inapp_user_data).where(inapp_user_data.c.OpenPckg == i)) is not None else True\n",
    "        start = 1/chk_swt\n",
    "        opn_list.append({\"UserID\": UserID, \"OpenPckg\": i})\n",
    "    except:\n",
    "        print(\"opening time already in database\")\n",
    "# Now we can create INSERT query:\n",
    "query = inapp_user_data.insert()\n",
    "exe_swt = conn.execute(query, swt_list)\n",
    "exe_opn = conn.execute(query, opn_list)"
   ]
  }
 ],
 "metadata": {
  "kernelspec": {
   "display_name": "Python 3",
   "language": "python",
   "name": "python3"
  },
  "language_info": {
   "codemirror_mode": {
    "name": "ipython",
    "version": 3
   },
   "file_extension": ".py",
   "mimetype": "text/x-python",
   "name": "python",
   "nbconvert_exporter": "python",
   "pygments_lexer": "ipython3",
   "version": "3.9.5"
  }
 },
 "nbformat": 4,
 "nbformat_minor": 2
}
